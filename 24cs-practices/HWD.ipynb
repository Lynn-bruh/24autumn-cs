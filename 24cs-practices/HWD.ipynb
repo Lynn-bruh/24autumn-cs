{
 "cells": [
  {
   "cell_type": "markdown",
   "metadata": {},
   "source": [
    "OJ #2692 假币问题"
   ]
  },
  {
   "cell_type": "code",
   "execution_count": null,
   "metadata": {},
   "outputs": [
    {
     "name": "stdout",
     "output_type": "stream",
     "text": [
      "{'I', 'K', 'L', 'J'} {'I', 'K', 'L', 'J'}\n",
      "{'I'} {'J', 'K'}\n",
      "set() {'K'}\n",
      "K\n",
      "K is the counterfeit coin and it is light.\n"
     ]
    }
   ],
   "source": [
    "# brute force, delete method\n",
    "n = int(input())\n",
    "for _ in range(n):\n",
    "    coins = set(\"ABCDEFGHIJKL\")\n",
    "    suspicion = {}\n",
    "    for _ in range(3):\n",
    "        left, right, state = input().split()\n",
    "        # left = ' '.join(left).split() # dun need, can simply use index since it is a string\n",
    "        # right = ' '.join(right).split()\n",
    "        if state == \"even\": # only 1 counterfeit coin, condition even must have got all real coin\n",
    "            coins = coins - set(left) - set(right)\n",
    "        elif state == 'up': # right up \n",
    "            for coin in left:\n",
    "                if coin not in suspicion: # left heavy\n",
    "                    suspicion[coin] = 'heavy'\n",
    "                else:\n",
    "                    if suspicion[coin] == \"light\": # a conterfeit coin is not possible to be heavy and light at the same time \n",
    "                        coins -= set(coin)\n",
    "            for coin in right:\n",
    "                if coin not in suspicion: # right light\n",
    "                    suspicion[coin] = 'light'\n",
    "                else:\n",
    "                    if suspicion[coin] == \"heavy\":\n",
    "                        coins -= set(coin)\n",
    "            coins = coins & (set(left)|set(right)) # set's knowledge, to find the only appeared coins\n",
    "        elif state == \"down\": # right down\n",
    "            for i in range(4): # or can directly use for i in range(4) to handle left and right at the same time\n",
    "                if left[i] in suspicion:\n",
    "                    if suspicion[left[i]] == \"heavy\":\n",
    "                        coins -= set(left[i])\n",
    "                else:\n",
    "                    suspicion[left[i]] =  \"light\"\n",
    "                if right[i] in suspicion:\n",
    "                    if suspicion[right[i]] == \"light\":\n",
    "                        coins -= set(right[i])\n",
    "                else:\n",
    "                    suspicion[right[i]] = \"heavy\"\n",
    "            coins = coins & (set(left)|set(right))\n",
    "    counterfeit = ''.join(coins) # turn remain coin into string\n",
    "    print(f'{counterfeit} is the counterfeit coin and it is {suspicion[counterfeit]}.')\n",
    "\n",
    "# set method\n",
    "n = int(input())\n",
    "for _ in range(n):\n",
    "    heavy = set(\"ABCDEFGHIJKL\")\n",
    "    light = set(\"ABCDEFGHIJKL\")\n",
    "    for _ in range(3):\n",
    "        left, right, state = input().split()\n",
    "        if state == \"even\":\n",
    "            heavy = heavy - set(left) - set(right)\n",
    "            light = light - set(left) - set(right)\n",
    "        elif state == \"up\":\n",
    "            heavy = heavy & set(left) # left is heavier\n",
    "            light &= set(right)\n",
    "        elif state == \"down\":\n",
    "            heavy &= set(right) # right is heavier\n",
    "            light &= set(left)\n",
    "    coin = str(*(heavy ^ light)) # to find the unique element in both set\n",
    "    if coin in heavy:\n",
    "        print(f'{coin} is the counterfeit coin and it is heavy.')\n",
    "    else:\n",
    "        print(f'{coin} is the counterfeit coin and it is light.')\n"
   ]
  },
  {
   "cell_type": "code",
   "execution_count": 8,
   "metadata": {},
   "outputs": [
    {
     "name": "stdout",
     "output_type": "stream",
     "text": [
      "f c a b g e\n"
     ]
    }
   ],
   "source": [
    "heavy = set('abcd')\n",
    "light = set('defg')\n",
    "print(*(heavy ^ light))"
   ]
  },
  {
   "cell_type": "markdown",
   "metadata": {},
   "source": [
    "OJ #1088 滑雪"
   ]
  },
  {
   "cell_type": "code",
   "execution_count": null,
   "metadata": {},
   "outputs": [
    {
     "name": "stdout",
     "output_type": "stream",
     "text": [
      "[[1, 2, 3, 4, 5], [16, 17, 18, 19, 6], [15, 24, 25, 20, 7], [14, 23, 22, 21, 8], [13, 12, 11, 10, 9]]\n"
     ]
    }
   ],
   "source": [
    "import heapq\n",
    "R, C = map(int, input().split())\n",
    "snow_area = []\n",
    "for _ in range(R):\n",
    "    snow_area.append(list(map(int, input().split())))\n",
    "\n",
    "snow_map = [(snow_area[i][j], i, j) for i in range(R) for j in range(C)] # also can use a sort (from lowest height to highest, rmb to save the coordinate)\n",
    "# Equal to:\n",
    "# for i in range(R):\n",
    "#   for j in range(C):\n",
    "heapq.heapify(snow_map) \n",
    "\n",
    "# initial length & longest path & direction\n",
    "dp = [[1]* C for _ in range(R)]\n",
    "directions = [(0, 1), (0, -1), (1, 0), (-1, 0)] # down, up, right, left\n",
    "longest_path = 1 # definitely 1 since one point can always be chosen\n",
    "\n",
    "while snow_map: # while there is still elements in snow_map (different here if using sorting method)\n",
    "    height, x, y = heapq.heappop(snow_map) # start from the shorter height (= shorter path)\n",
    "    for dx, dy in directions:\n",
    "        nx, ny = x + dx, y + dy\n",
    "        if 0 <= nx < R and 0 <= ny < C and snow_area[nx][ny] < height:\n",
    "            dp[x][y] = max(dp[x][y], dp[nx][ny] + 1) # choose the longer path, remew the length\n",
    "    longest_path = max(dp[x][y], longest_path) # renew the longest path after the related points' length was finish renew\n",
    "\n",
    "print(longest_path)\n"
   ]
  },
  {
   "cell_type": "markdown",
   "metadata": {},
   "source": [
    "OJ #27373 最大整数"
   ]
  },
  {
   "cell_type": "code",
   "execution_count": null,
   "metadata": {},
   "outputs": [
    {
     "name": "stdout",
     "output_type": "stream",
     "text": [
      "[0, 8, 43, 843, 8765, 84321]\n",
      "84321\n"
     ]
    }
   ],
   "source": [
    "import math\n",
    "m = int(input())\n",
    "n = int(input())\n",
    "nums = input().split()\n",
    "max_len = 0\n",
    "for i in range(n): # find the longest str\n",
    "    max_len = max(max_len, len(nums[i]))\n",
    "nums.sort(key = lambda x: x * math.ceil(2 * max_len/len(x)), reverse = True) # sorting according to 2 times of the length\n",
    "\n",
    "dp = [0] * (m+1)\n",
    "for num in nums:\n",
    "    for i in range(m, len(num)-1, -1): # at most m digits, num consist len(num), start from the last to prevent repeat calculation\n",
    "        dp[i] = max(dp[i], dp[i - len(num)] * (10 ** len(num)) + int(num))\n",
    "\n",
    "print(dp[-1])\n"
   ]
  },
  {
   "cell_type": "markdown",
   "metadata": {},
   "source": [
    "OJ #25572 螃蟹采蘑菇"
   ]
  },
  {
   "cell_type": "code",
   "execution_count": 7,
   "metadata": {},
   "outputs": [
    {
     "name": "stdout",
     "output_type": "stream",
     "text": [
      "no\n"
     ]
    }
   ],
   "source": [
    "from collections import deque\n",
    "n = int(input())\n",
    "crab_map = [list(map(int, input().split())) for _ in range(n)]\n",
    "direction = [(0, 1), (0, -1), (1, 0), (-1, 0)]\n",
    "\n",
    "# find mushroom\n",
    "def crab_find(crab_start):\n",
    "    crab = deque()\n",
    "    crab.append(crab_start)\n",
    "    visited = set()\n",
    "    visited.add(crab_start)\n",
    "\n",
    "    while crab:\n",
    "        x1, y1, x2, y2 = crab.popleft()\n",
    "        if crab_map[x1][y1] == 9 or crab_map[x2][y2] == 9:\n",
    "            return 'yes'\n",
    "        \n",
    "        for dx, dy in direction:\n",
    "            nx1, nx2 = x1 + dx, x2 + dx\n",
    "            ny1, ny2 = y1 + dy, y2 + dy\n",
    "\n",
    "            if 0 <= nx1 < n and 0 <= ny1 < n and 0 <= nx2 < n and 0 <= ny2 < n:\n",
    "                if crab_map[nx1][ny1] != 1 and crab_map[nx2][ny2] != 1 and (nx1, ny1, nx2, ny2) not in visited:\n",
    "                        crab.append((nx1, ny1, nx2, ny2))\n",
    "                        visited.add((nx1, ny1, nx2, ny2))\n",
    "        \n",
    "    return 'no'\n",
    "\n",
    "# find crab\n",
    "start = []\n",
    "for i in range(n):\n",
    "    for j in range(n):\n",
    "        if crab_map[i][j] == 5:\n",
    "            start.extend([i, j])\n",
    "\n",
    "print(crab_find((start[0], start[1], start[2], start[3])))\n"
   ]
  }
 ],
 "metadata": {
  "kernelspec": {
   "display_name": "Python 3",
   "language": "python",
   "name": "python3"
  },
  "language_info": {
   "codemirror_mode": {
    "name": "ipython",
    "version": 3
   },
   "file_extension": ".py",
   "mimetype": "text/x-python",
   "name": "python",
   "nbconvert_exporter": "python",
   "pygments_lexer": "ipython3",
   "version": "3.12.4"
  }
 },
 "nbformat": 4,
 "nbformat_minor": 2
}
