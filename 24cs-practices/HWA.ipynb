{
 "cells": [
  {
   "cell_type": "markdown",
   "metadata": {},
   "source": [
    "Luogu P1255 数楼梯"
   ]
  },
  {
   "cell_type": "code",
   "execution_count": null,
   "metadata": {},
   "outputs": [
    {
     "name": "stdout",
     "output_type": "stream",
     "text": [
      "[1, 1, 0, 0]\n",
      "[1, 1, 2, 0]\n",
      "[1, 1, 2, 3]\n",
      "3\n"
     ]
    }
   ],
   "source": [
    "N = [0 for _ in range(int(input())+1)] #stairs got n stairs, so need n+1 stepcase to reach another \"floor\"\n",
    "N[0] = 1 #the first stage definitely only have one way to reach (start from the first stage)\n",
    "for i in range(1, len(N)):\n",
    "    if i >= 2: #start from the third stage, can reach by one/two step, s.t. two ways in total\n",
    "        N[i] = N[i-1] + N[i-2]\n",
    "    else:\n",
    "        N[i] = 1 #the second stage can also only reach by one step\n",
    "\n",
    "print(N[len(N)-1]) # index not length"
   ]
  },
  {
   "cell_type": "markdown",
   "metadata": {},
   "source": [
    "OJ #27528 跳台阶"
   ]
  },
  {
   "cell_type": "code",
   "execution_count": null,
   "metadata": {},
   "outputs": [
    {
     "name": "stdout",
     "output_type": "stream",
     "text": [
      "[1, 2, 1, 1]\n",
      "[1, 2, 4, 1]\n",
      "[1, 2, 4, 8]\n",
      "8\n"
     ]
    }
   ],
   "source": [
    "N = int(input())\n",
    "stairs = [1]*(N) # every step at least got one way to reach\n",
    "for i in range(1, N):\n",
    "    stairs[i] += sum(stairs[:i])\n",
    "\n",
    "print(stairs[N-1])\n"
   ]
  },
  {
   "cell_type": "markdown",
   "metadata": {},
   "source": [
    "CF #474D. Flowers"
   ]
  },
  {
   "cell_type": "code",
   "execution_count": null,
   "metadata": {},
   "outputs": [
    {
     "name": "stdout",
     "output_type": "stream",
     "text": [
      "6\n",
      "5\n",
      "5\n"
     ]
    }
   ],
   "source": [
    "MOD = int(1e9 + 7) #every larger than MOD will only get the modulo\n",
    "flowers = [0]*(int(1e5+1))\n",
    "s = [0]*(int(1e5+1))\n",
    "flowers[0] = 1\n",
    "t, k = map(int, input().split())\n",
    "for i in range(1, 100001):\n",
    "    if i >= k:\n",
    "        flowers[i] = (flowers[i-1] + flowers[i-k]) % MOD # possible arrangement for i red & white flowers\n",
    "    else:\n",
    "        flowers[i] = flowers[i-1]\n",
    "    s[i] = (s[i-1] + flowers[i]) % MOD # all possible way to eat n flowers\n",
    "\n",
    "for _ in range(t):\n",
    "    a, b = map(int, input().split())\n",
    "    print ((s[b] - s[a-1] + MOD) % MOD)\n"
   ]
  },
  {
   "cell_type": "markdown",
   "metadata": {},
   "source": [
    "LeetCode5. 最长回文子串"
   ]
  },
  {
   "cell_type": "code",
   "execution_count": null,
   "metadata": {},
   "outputs": [
    {
     "name": "stdout",
     "output_type": "stream",
     "text": [
      "0 1\n",
      "0 1\n",
      "0 1\n",
      "0 1\n",
      "3 4\n",
      "3 1\n",
      "3 1\n",
      "fggf\n"
     ]
    }
   ],
   "source": [
    "def find_palindrome(palindrome, left, right): #find the longest palindrome can get in current index\n",
    "    while left >= 0 and right < len(palindrome) and palindrome[left] == palindrome[right]:\n",
    "        left -= 1\n",
    "        right += 1\n",
    "    \n",
    "    return left + 1, right - left -1\n",
    "\n",
    "def find_longest(s):\n",
    "    max_length = 1\n",
    "    left_index = 0\n",
    "    S = len(s)\n",
    "    for i in range(S):\n",
    "        odd_index, odd_palindrome = find_palindrome(s, i, i)\n",
    "        if i != S-1:\n",
    "            even_index, even_palindrome = find_palindrome(s, i, i+1)\n",
    "        else:\n",
    "            even_index, even_palindrome = -1, -1\n",
    "        max_current = max(odd_palindrome, even_palindrome)\n",
    "        if max_current > max_length:\n",
    "            if max_current == odd_palindrome:\n",
    "                left_index = odd_index\n",
    "            elif max_current == even_palindrome:\n",
    "                left_index = even_index\n",
    "            max_length = max_current\n",
    "    \n",
    "    return s[left_index:left_index+max_length]\n",
    "\n",
    "s = input()\n",
    "print(find_longest(s))\n"
   ]
  },
  {
   "cell_type": "markdown",
   "metadata": {},
   "source": [
    "OJ #12029 水淹七军"
   ]
  },
  {
   "cell_type": "code",
   "execution_count": null,
   "metadata": {},
   "outputs": [],
   "source": []
  },
  {
   "cell_type": "markdown",
   "metadata": {},
   "source": [
    "OJ #2802 小游戏"
   ]
  },
  {
   "cell_type": "code",
   "execution_count": null,
   "metadata": {},
   "outputs": [],
   "source": []
  }
 ],
 "metadata": {
  "kernelspec": {
   "display_name": "Python 3",
   "language": "python",
   "name": "python3"
  },
  "language_info": {
   "codemirror_mode": {
    "name": "ipython",
    "version": 3
   },
   "file_extension": ".py",
   "mimetype": "text/x-python",
   "name": "python",
   "nbconvert_exporter": "python",
   "pygments_lexer": "ipython3",
   "version": "3.12.4"
  }
 },
 "nbformat": 4,
 "nbformat_minor": 2
}
