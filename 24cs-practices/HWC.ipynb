{
 "cells": [
  {
   "cell_type": "markdown",
   "metadata": {},
   "source": [
    "acwig #1115 取石子游戏"
   ]
  },
  {
   "cell_type": "code",
   "execution_count": null,
   "metadata": {},
   "outputs": [
    {
     "name": "stdout",
     "output_type": "stream",
     "text": [
      "win\n",
      "win\n",
      "lose\n"
     ]
    }
   ],
   "source": [
    "def game(left, right, player):\n",
    "    if left < right: # make sure left is larger\n",
    "        left, right = right, left\n",
    "    \n",
    "    if right == 0:\n",
    "        return player - 1\n",
    "\n",
    "    if left // right >= 2: # from hint, the first player always win\n",
    "        return player\n",
    "    \n",
    "    left %= right # since left is always larger\n",
    "    return game(right, left, player+1) # now left is smaller\n",
    "\n",
    "while True:\n",
    "    a, b = map(int, input().split())\n",
    "    if a + b == 0:\n",
    "        break\n",
    "    get_player = game(a, b, 1)\n",
    "    if get_player % 2 == 1:\n",
    "        print(\"win\")\n",
    "    else:\n",
    "        print(\"lose\")\n"
   ]
  },
  {
   "cell_type": "markdown",
   "metadata": {},
   "source": [
    "OJ #25570 洋葱"
   ]
  },
  {
   "cell_type": "code",
   "execution_count": 1,
   "metadata": {},
   "outputs": [
    {
     "name": "stdout",
     "output_type": "stream",
     "text": [
      "8\n"
     ]
    }
   ],
   "source": [
    "def onion(matrix: list):\n",
    "    results = [] # going to save the results of each layer\n",
    "    left, right, top, bottom = 0, len(matrix)-1, 0, len(matrix)-1 # the largest index of each layer\n",
    "\n",
    "    while matrix:\n",
    "        temp = 0\n",
    "        for i in range(left, right+1):\n",
    "            temp += matrix[top][i]\n",
    "        top += 1\n",
    "        for i in range(top, bottom+1):\n",
    "            temp += matrix[i][right]\n",
    "        right -= 1\n",
    "        for i in range(right, left-1, -1):\n",
    "            temp += matrix[bottom][i]\n",
    "        bottom -= 1\n",
    "        if top > bottom:\n",
    "            results.append(temp)\n",
    "            break\n",
    "        for i in range(bottom, top-1, -1):\n",
    "            temp += matrix[i][left]\n",
    "        left += 1\n",
    "        if left > right:\n",
    "            results.append(temp)\n",
    "            break\n",
    "        results.append(temp)\n",
    "    \n",
    "    return max(results)\n",
    "\n",
    "n = int(input())\n",
    "onions = []\n",
    "for _ in range(n):\n",
    "    onions.append(list(map(int, input().split())))\n",
    "print(onion(onions))\n"
   ]
  },
  {
   "cell_type": "markdown",
   "metadata": {},
   "source": [
    "CF #1526C1 Potions (Easy Version)"
   ]
  },
  {
   "cell_type": "code",
   "execution_count": null,
   "metadata": {},
   "outputs": [
    {
     "name": "stdout",
     "output_type": "stream",
     "text": [
      "5\n"
     ]
    }
   ],
   "source": [
    "import heapq\n",
    "def max_potions(potions):\n",
    "    health = 0\n",
    "    drank = []\n",
    "\n",
    "    for potion in potions:\n",
    "        health += potion\n",
    "        heapq.heappush(drank, potion) # simply drink the current potion (must drink from left to right)\n",
    "        if health < 0 and drank: # health can't be negative at any time\n",
    "            health -= drank[0]\n",
    "            heapq.heappop(drank) # cancelled to drink the most negative potions, so that the health can return to non-negative\n",
    "\n",
    "    return len(drank)\n",
    "\n",
    "n = int(input())\n",
    "potions = list(map(int, input().split()))\n",
    "print(max_potions(potions))\n"
   ]
  },
  {
   "cell_type": "markdown",
   "metadata": {},
   "source": [
    "OJ #20106 变换的迷宫"
   ]
  },
  {
   "cell_type": "code",
   "execution_count": 12,
   "metadata": {},
   "outputs": [
    {
     "name": "stdout",
     "output_type": "stream",
     "text": [
      "2\n",
      "3\n",
      "NO\n"
     ]
    }
   ],
   "source": [
    "import heapq\n",
    "def find_min_cost_path(m, n, maps, start, end):\n",
    "    direction = [(1, 0), (0, 1), (0, -1), (-1, 0)]\n",
    "    dist = {(start[0], start[1]): 0}  # Distance dictionary to keep track of minimum cost to each node\n",
    "    path = [(0, start[0], start[1])]  # Priority queue: (cost, row, col)\n",
    "    \n",
    "    while path:\n",
    "        cost, x, y = heapq.heappop(path)\n",
    "        if (x, y) == (end_x, end_y): # reached target\n",
    "            return cost\n",
    "            # dfs\n",
    "        for dx, dy in direction:\n",
    "            nx, ny = x+dx, y+dy\n",
    "            if 0 <= nx < m and 0 <= ny < n and maps[nx][ny] != '#':\n",
    "                new_cost = cost + abs(int(maps[nx][ny]) - int(maps[x][y])) # rmb to change it into int\n",
    "                if (nx, ny) not in dist or new_cost < dist[(nx, ny)]:\n",
    "                    dist[(nx, ny)] = new_cost # update cost\n",
    "                    heapq.heappush(path, (new_cost, nx, ny)) # update path (from the smallest cost)\n",
    "\n",
    "    return 'NO'\n",
    "\n",
    "m, n, p = map(int, input().split())\n",
    "topo = []\n",
    "queries = []\n",
    "for _ in range(m):\n",
    "    topo.append(list(map(str, input().split()))) # might have '#'\n",
    "for _ in range(p):\n",
    "    start_x, start_y, end_x, end_y = map(int, input().split())\n",
    "    if topo[start_x][start_y] == '#' or topo[end_x][end_y] == '#':\n",
    "        print(\"NO\")\n",
    "    else:\n",
    "        print(find_min_cost_path(m, n, topo, (start_x, start_y), (end_x, end_y)))\n"
   ]
  }
 ],
 "metadata": {
  "kernelspec": {
   "display_name": "Python 3",
   "language": "python",
   "name": "python3"
  },
  "language_info": {
   "codemirror_mode": {
    "name": "ipython",
    "version": 3
   },
   "file_extension": ".py",
   "mimetype": "text/x-python",
   "name": "python",
   "nbconvert_exporter": "python",
   "pygments_lexer": "ipython3",
   "version": "3.12.4"
  }
 },
 "nbformat": 4,
 "nbformat_minor": 2
}
