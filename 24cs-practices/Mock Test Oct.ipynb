{
 "cells": [
  {
   "cell_type": "markdown",
   "metadata": {},
   "source": [
    "E28674"
   ]
  },
  {
   "cell_type": "code",
   "execution_count": 9,
   "metadata": {},
   "outputs": [
    {
     "name": "stdout",
     "output_type": "stream",
     "text": [
      "BlackMythWukong\n"
     ]
    }
   ],
   "source": [
    "k = int(input())\n",
    "s = input()\n",
    "key = ' '.join(\"abcdefghijklmnopqrstuvwxyz\").split()\n",
    "Key = ' '.join(\"ABCDEFGHIJKLMNOPQRSTUVWXYZ\").split()\n",
    "passout = \"\"\n",
    "for char in s:\n",
    "    if char in key:\n",
    "        idx = key.index(char) - k\n",
    "        while idx < 0:\n",
    "            idx += 26\n",
    "        passout += key[idx]\n",
    "    if char in Key:\n",
    "        idx = Key.index(char) - k\n",
    "        while idx < 0:\n",
    "            idx += 26\n",
    "        passout += Key[idx]\n",
    "print (passout)\n"
   ]
  },
  {
   "cell_type": "markdown",
   "metadata": {},
   "source": [
    "E28691"
   ]
  },
  {
   "cell_type": "code",
   "execution_count": null,
   "metadata": {},
   "outputs": [],
   "source": [
    "A = input()\n",
    "a = int(A[0:2]) + int(A[4:6])\n",
    "print (a)\n"
   ]
  },
  {
   "cell_type": "markdown",
   "metadata": {},
   "source": [
    "M28664"
   ]
  },
  {
   "cell_type": "code",
   "execution_count": null,
   "metadata": {},
   "outputs": [],
   "source": [
    "n = int(input())\n",
    "for _ in range(n):\n",
    "    ic = input()\n",
    "    icnumbers = ic[:-1]\n",
    "    icnumbers = list(map(int, ' '.join(icnumbers).split()))\n",
    "    code = [7,9,10,5,8,4,2,1,6,3,7,9,10,5,8,4,2]\n",
    "    adding = 0\n",
    "    for i in range(17):\n",
    "        adding += icnumbers[i] * code[i]\n",
    "    mods = adding % 11\n",
    "    realcode = ['1','0','X','9','8','7','6','5','4','3','2']\n",
    "    if realcode[mods] == str(ic[-1]):\n",
    "        print(\"YES\")\n",
    "    else:\n",
    "        print(\"NO\")\n"
   ]
  },
  {
   "cell_type": "markdown",
   "metadata": {},
   "source": [
    "M28678"
   ]
  },
  {
   "cell_type": "code",
   "execution_count": null,
   "metadata": {},
   "outputs": [],
   "source": [
    "n = int(input())\n",
    "while True:\n",
    "    a = n\n",
    "    if n == 1:\n",
    "        print(\"End\")\n",
    "        break\n",
    "    elif n % 2 != 0:\n",
    "        a = n * 3 + 1\n",
    "        print(\"{}*3+1={}\".format(n, a))\n",
    "        n = a\n",
    "    elif n % 2 == 0:\n",
    "        a = n // 2\n",
    "        print(\"{}/2={}\".format(n, a))\n",
    "        n = a\n"
   ]
  },
  {
   "cell_type": "markdown",
   "metadata": {},
   "source": [
    "M28700"
   ]
  },
  {
   "cell_type": "code",
   "execution_count": 1,
   "metadata": {},
   "outputs": [
    {
     "name": "stdout",
     "output_type": "stream",
     "text": [
      "1001\n"
     ]
    }
   ],
   "source": [
    "n = input()\n",
    "numtest = [\"1\", '2', '3', '4', '5', '6', '7', '8', '9']\n",
    "getrome = \"\"\n",
    "getnum = 0\n",
    "if n[0] in numtest:\n",
    "    n = list(map(int, \" \".join(n).split()))\n",
    "    if len(n) == 4:\n",
    "        getrome += \"M\"*n[0]\n",
    "    \n",
    "    if len(n) > 2:\n",
    "        if n[-3] < 4:\n",
    "            getrome += \"C\"*n[-3]\n",
    "        elif n[-3] == 4:\n",
    "            getrome += \"CD\"\n",
    "        elif 4 < n[-3] < 9:\n",
    "            getrome += \"D\" + \"C\"*(n[-3]-5)\n",
    "        elif n[-3] == 9:\n",
    "            getrome += \"CM\"\n",
    "        else:\n",
    "            print(\"HAHA\")\n",
    "    \n",
    "    if len(n) > 1:\n",
    "        if n[-2] < 4:\n",
    "            getrome += \"X\"*n[-2]\n",
    "        elif n[-2] == 4:\n",
    "            getrome += \"XL\"\n",
    "        elif 4 < n[-2] < 9:\n",
    "            getrome += \"L\" + \"X\"*(n[-2]-5)\n",
    "        elif n[-2] == 9:\n",
    "            getrome += \"XC\"\n",
    "        else:\n",
    "            print(\"HA\")\n",
    "    \n",
    "    if n[-1] < 4:\n",
    "        getrome += \"I\"*n[-1]\n",
    "    elif n[-1] == 4:\n",
    "        getrome += \"IV\"\n",
    "    elif 4 < n[-1] < 9:\n",
    "        getrome += \"V\" + \"I\"*(n[-1]-5)\n",
    "    elif n[-1] == 9:\n",
    "        getrome += \"IX\"\n",
    "    else:\n",
    "        print(\"H\")\n",
    "    \n",
    "    print(getrome)\n",
    "\n",
    "else:\n",
    "    countM = n.count(\"M\")\n",
    "    countD = n.count(\"D\")\n",
    "    countC = n.count(\"C\")\n",
    "    countL = n.count(\"L\")\n",
    "    countX = n.count(\"X\")\n",
    "    countV = n.count(\"V\")\n",
    "    countI = n.count(\"I\")\n",
    "    if \"CM\" in n:\n",
    "        countM -= 1\n",
    "        countC -= 1\n",
    "        getnum += 900\n",
    "    if \"CD\" in n:\n",
    "        countD -= 1\n",
    "        countC -= 1\n",
    "        getnum += 400\n",
    "    if \"XC\" in n:\n",
    "        countC -= 1\n",
    "        countX -= 1\n",
    "        getnum += 90\n",
    "    if \"XL\" in n:\n",
    "        countL -= 1\n",
    "        countX -= 1\n",
    "        getnum += 40\n",
    "    if \"IX\" in n:\n",
    "        countX -= 1\n",
    "        countI -= 1\n",
    "        getnum += 9\n",
    "    if \"IV\" in n:\n",
    "        countV -= 1\n",
    "        countI -= 1\n",
    "        getnum += 4\n",
    "    getnum += countM*1000 + countD*500 + countC*100 + countL*50 + countX*10 + countV*5 + countI*1\n",
    "    print (getnum)\n"
   ]
  },
  {
   "cell_type": "markdown",
   "metadata": {},
   "source": [
    "T25353 (WA)"
   ]
  },
  {
   "cell_type": "code",
   "execution_count": null,
   "metadata": {},
   "outputs": [],
   "source": [
    "N, D = map(int, input().split())\n",
    "height = []\n",
    "for _ in range(N):\n",
    "    height.append(input())\n",
    "\n",
    "height_pre = [\"0\"]*N\n",
    "mheight = sorted(height)\n",
    "while True:\n",
    "    if mheight == height:\n",
    "        height_pre = height\n",
    "        break\n",
    "    \n",
    "    for i in range(1, len(height)):\n",
    "        if abs(int(height[i-1]) - int(height[i])) > D:\n",
    "            continue\n",
    "        elif (int(height[i-1]) - int(height[i])) <= 0:\n",
    "            continue\n",
    "        elif 0 < int(height[i-1]) - int(height[i]) <= D:\n",
    "            height[i-1], height[i] = height[i], height[i-1]\n",
    "    \n",
    "    if \"0\" not in height_pre and height_pre <= height:\n",
    "        break\n",
    "\n",
    "    height_pre = height\n",
    "\n",
    "print (*height_pre, sep = '\\n')"
   ]
  }
 ],
 "metadata": {
  "kernelspec": {
   "display_name": "Python 3",
   "language": "python",
   "name": "python3"
  },
  "language_info": {
   "codemirror_mode": {
    "name": "ipython",
    "version": 3
   },
   "file_extension": ".py",
   "mimetype": "text/x-python",
   "name": "python",
   "nbconvert_exporter": "python",
   "pygments_lexer": "ipython3",
   "version": "3.12.4"
  }
 },
 "nbformat": 4,
 "nbformat_minor": 2
}
