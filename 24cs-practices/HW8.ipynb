{
 "cells": [
  {
   "cell_type": "markdown",
   "metadata": {},
   "source": [
    "OJ #12558 岛屿周长"
   ]
  },
  {
   "cell_type": "code",
   "execution_count": 5,
   "metadata": {},
   "outputs": [
    {
     "name": "stdout",
     "output_type": "stream",
     "text": [
      "14\n"
     ]
    }
   ],
   "source": [
    "n, m = map(int, input().split())\n",
    "islands = [[0 for _ in range(m+2)]]\n",
    "for _ in range(n):\n",
    "    islands.append([0] + list(map(int, input().split())) + [0])\n",
    "islands.append([0 for _ in range(m+2)])\n",
    "\n",
    "length = 0\n",
    "for i in range(n+2):\n",
    "    for j in range(m+2): # since all land were connected, only four direction need to judge\n",
    "        if islands[i][j] == 1 and islands[i-1][j] == 0:\n",
    "            length += 1\n",
    "        if  islands[i][j] == 1 and islands[i+1][j] == 0:\n",
    "            length += 1\n",
    "        if islands[i][j] == 1 and islands[i][j-1] == 0:\n",
    "            length += 1\n",
    "        if islands[i][j] == 1 and islands[i][j+1] == 0:\n",
    "            length += 1\n",
    "\n",
    "print(length)"
   ]
  },
  {
   "cell_type": "markdown",
   "metadata": {},
   "source": [
    "OJ / LeetCode #18106 螺旋矩阵"
   ]
  },
  {
   "cell_type": "code",
   "execution_count": null,
   "metadata": {},
   "outputs": [
    {
     "name": "stdout",
     "output_type": "stream",
     "text": [
      "[[1, 2, 3, 4, 5], [16, 17, 18, 19, 6], [15, 24, 25, 20, 7], [14, 23, 22, 21, 8], [13, 12, 11, 10, 9]]\n",
      "1 2 3 4 5\n",
      "16 17 18 19 6\n",
      "15 24 25 20 7\n",
      "14 23 22 21 8\n",
      "13 12 11 10 9\n"
     ]
    }
   ],
   "source": [
    "import math\n",
    "n = int(input())\n",
    "ele = 1\n",
    "left, right, top, bottom = 0, n-1, 0, n-1 # left index, right index\n",
    "spiral_matrix = [[0]*(n) for _ in range(n)]\n",
    "while spiral_matrix:\n",
    "    for i in range(left, right+1): # from left to right (starting from first row, thn copying another row)\n",
    "        spiral_matrix[top][i] = ele\n",
    "        ele += 1\n",
    "    top += 1\n",
    "    if top > bottom: # complete all rows\n",
    "        break\n",
    "    for i in range(top, bottom+1): # from top to bottom (only the right half column need to copy from top to bottom)\n",
    "        spiral_matrix[i][right] = ele\n",
    "        ele += 1\n",
    "    right -= 1\n",
    "    if left > right: \n",
    "        break\n",
    "    for i in range(right, left-1, -1): # from right to left (left index need to be smaller than left, so that fully copied since range stop at stop-1)\n",
    "        spiral_matrix[bottom][i] = ele\n",
    "        ele += 1\n",
    "    bottom -= 1\n",
    "    if top > bottom: \n",
    "        break\n",
    "    for i in range(bottom, top-1, -1): # from bottom to top\n",
    "        spiral_matrix[i][left] = ele\n",
    "        ele += 1\n",
    "    left += 1\n",
    "    if left > right: \n",
    "        break\n",
    "\n",
    "if spiral_matrix:\n",
    "    for i in range(n):\n",
    "        print(*spiral_matrix[i])\n"
   ]
  },
  {
   "cell_type": "markdown",
   "metadata": {},
   "source": [
    "OJ #04133 垃圾炸弹"
   ]
  },
  {
   "cell_type": "code",
   "execution_count": null,
   "metadata": {},
   "outputs": [],
   "source": [
    "d = int(input())\n",
    "n = int(input())\n",
    "Moskov = [[0]*1027 for _ in range(1027)]\n",
    "trash = []\n",
    "for _ in range(n):\n",
    "    x, y, i = map(int, input().split())\n",
    "    Moskov[x][y] = i\n",
    "\n"
   ]
  },
  {
   "cell_type": "markdown",
   "metadata": {},
   "source": [
    "LeetCode 376. 摆动序列"
   ]
  },
  {
   "cell_type": "code",
   "execution_count": 46,
   "metadata": {},
   "outputs": [
    {
     "name": "stdout",
     "output_type": "stream",
     "text": [
      "6\n"
     ]
    }
   ],
   "source": [
    "n = int(input())\n",
    "seq = list(map(int, input().split()))\n",
    "updown = []\n",
    "for i in range(1, n):\n",
    "    if seq[i] > seq[i-1]: # latter larger than former, up\n",
    "        updown.append(1)\n",
    "    elif seq[i] < seq[i-1]: # latter smaller than former, down\n",
    "        updown.append(-1)\n",
    "    elif seq[i] == seq[i-1]: # not change\n",
    "        updown.append(0)\n",
    "\n",
    "longest = 1\n",
    "pre = 0 # default not change\n",
    "for j in range(len(updown)):\n",
    "    if updown[j]*pre == -1 or (pre == 0 and updown[j] != 0): # either the first one or the others\n",
    "        longest += 1\n",
    "        if updown[j] != 0:\n",
    "            pre = updown[j]\n",
    "\n",
    "print(longest)"
   ]
  },
  {
   "cell_type": "markdown",
   "metadata": {},
   "source": [
    "CF #455A. Boredom"
   ]
  },
  {
   "cell_type": "code",
   "execution_count": null,
   "metadata": {},
   "outputs": [],
   "source": [
    "n = int(input())\n",
    "sequence = list(map(int, input().split()))\n",
    "Max = 10**5 + 1\n",
    "freq = [0]*Max\n",
    "dp = [0]*Max\n",
    " \n",
    "for num in sequence:\n",
    "    freq[num] += 1 # How many we got in every value\n",
    "\n",
    "for i in range(1, Max):\n",
    "    dp[i] = max(dp[i-1], dp[i-2] + i*freq[i]) # take or not take the value\n",
    "\n",
    "print(dp[Max-1]) # largest index = length-1\n"
   ]
  },
  {
   "cell_type": "markdown",
   "metadata": {},
   "source": [
    "OJ #02287 Tian Ji -- The Horse Racing"
   ]
  },
  {
   "cell_type": "code",
   "execution_count": null,
   "metadata": {},
   "outputs": [
    {
     "name": "stdout",
     "output_type": "stream",
     "text": [
      "[[92, 83, 71], [92, 71, 83], [83, 92, 71], [83, 71, 92], [71, 83, 92], [71, 92, 83]] [-200, -200, 200, -200, -600, -200]\n",
      "200\n"
     ]
    }
   ],
   "source": [
    "# sorting, directly compare, permutation is too large for n = 1000, all combinations cost 1000! which is larger than 10^2568\n",
    "def permutation(T:list, start, end):\n",
    "    if start == end:\n",
    "        all_T.append(T[:])\n",
    "    else:\n",
    "        for i in range(start, end+1):\n",
    "            T[start], T[i] = T[i], T[start]\n",
    "            permutation(T, start+1, end)\n",
    "            T[i], T[start] = T[start], T[i]\n",
    "\n",
    "def Horse_Racing(T:list, K:list):\n",
    "    K.sort()\n",
    "    for i in range(len(T)):\n",
    "        win = 0\n",
    "        lose = 0\n",
    "        for j in range(n):\n",
    "            if T[i][j] > K[j]:\n",
    "                win += 1\n",
    "            elif T[i][j] < K[j]:\n",
    "                lose += 1\n",
    "        money.append((win-lose)*200)\n",
    "\n",
    "while True:\n",
    "    n = int(input())\n",
    "    if n == 0:\n",
    "        break\n",
    "    all_T = []\n",
    "    Tian = list(map(int, input().split()))\n",
    "    permutation(Tian, 0, n-1)\n",
    "    King = list(map(int, input().split()))\n",
    "    money = []\n",
    "    Horse_Racing(all_T, King)\n",
    "    print(max(money))\n"
   ]
  },
  {
   "cell_type": "code",
   "execution_count": null,
   "metadata": {},
   "outputs": [],
   "source": [
    "# try, two pointer\n"
   ]
  },
  {
   "cell_type": "code",
   "execution_count": null,
   "metadata": {},
   "outputs": [],
   "source": []
  }
 ],
 "metadata": {
  "kernelspec": {
   "display_name": "Python 3",
   "language": "python",
   "name": "python3"
  },
  "language_info": {
   "codemirror_mode": {
    "name": "ipython",
    "version": 3
   },
   "file_extension": ".py",
   "mimetype": "text/x-python",
   "name": "python",
   "nbconvert_exporter": "python",
   "pygments_lexer": "ipython3",
   "version": "3.12.4"
  }
 },
 "nbformat": 4,
 "nbformat_minor": 2
}
