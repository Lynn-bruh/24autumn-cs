{
 "cells": [
  {
   "cell_type": "markdown",
   "metadata": {},
   "source": [
    "OJ #06374 文字排版"
   ]
  },
  {
   "cell_type": "code",
   "execution_count": null,
   "metadata": {},
   "outputs": [],
   "source": [
    "n = int(input())\n",
    "Ori = list(map(str, input().split()))\n",
    "Out = \"\"\n",
    "i = 0\n",
    "length = 0\n",
    "while i < len(Ori):\n",
    "    if length == 0:\n",
    "        Out += Ori[i]\n",
    "        length += len(Ori[i])\n",
    "        i += 1\n",
    "    elif length + len(Ori[i]) < 80: \n",
    "        Out += ' ' + Ori[i]\n",
    "        length += len(Ori[i]) + 1\n",
    "        i += 1\n",
    "    elif length + len(Ori[i]) >= 80:\n",
    "        Out += \"\\n\"\n",
    "        length = 0\n",
    "else: \n",
    "    print (Out)"
   ]
  },
  {
   "cell_type": "code",
   "execution_count": 1,
   "metadata": {},
   "outputs": [
    {
     "name": "stdout",
     "output_type": "stream",
     "text": [
      "Help on method_descriptor:\n",
      "\n",
      "join(self, iterable, /) unbound builtins.str method\n",
      "    Concatenate any number of strings.\n",
      "\n",
      "    The string whose method is called is inserted in between each given string.\n",
      "    The result is returned as a new string.\n",
      "\n",
      "    Example: '.'.join(['ab', 'pq', 'rs']) -> 'ab.pq.rs'\n",
      "\n"
     ]
    }
   ],
   "source": [
    "help(str.join)"
   ]
  },
  {
   "cell_type": "markdown",
   "metadata": {},
   "source": [
    "OJ #12556 编码字符串 (string)"
   ]
  },
  {
   "cell_type": "code",
   "execution_count": null,
   "metadata": {},
   "outputs": [],
   "source": [
    "INP = str(input())\n",
    "inp = INP.lower()\n",
    "count_list = [] \n",
    "count = 1\n",
    "for idx in range(1, len(inp)): #cannot start from index 0 since inp compare with previous inp, if inp[0]&inp[-1] are the same will miscount\n",
    "    if inp[idx] == inp[idx - 1]:\n",
    "        count += 1\n",
    "    else:\n",
    "        count_list.append([inp[idx - 1], count])\n",
    "        count = 1\n",
    "count_list.append([inp[-1], count])\n",
    "out = ''.join(f'({inp},{count})' for inp, count in count_list)\n",
    "print(out)\n"
   ]
  },
  {
   "cell_type": "markdown",
   "metadata": {},
   "source": [
    "OJ #02808 校门外的树"
   ]
  },
  {
   "cell_type": "code",
   "execution_count": 1,
   "metadata": {},
   "outputs": [
    {
     "name": "stdout",
     "output_type": "stream",
     "text": [
      "298\n"
     ]
    }
   ],
   "source": [
    "L, M = map(int, input().split())\n",
    "tree = [1]*(L+1)\n",
    "for i in range(M):\n",
    "    start, stop = map(int, input().split())\n",
    "    for idx in range(start, stop + 1):\n",
    "        tree[idx] = 0\n",
    "left = 0\n",
    "for i in tree:\n",
    "    if i == 1:\n",
    "        left += 1\n",
    "print(left)\n",
    "\n",
    "#10/4: tree's can count by sum\n",
    "L, M = map(int, input().split())\n",
    "tree = [1]*(L+1)\n",
    "for i in range(M):\n",
    "    start, stop = map(int, input().split())\n",
    "    for idx in range(start, stop + 1):\n",
    "        tree[idx] = 0\n",
    "print(sum(tree))"
   ]
  },
  {
   "cell_type": "markdown",
   "metadata": {},
   "source": [
    "OJ #19949 提取实体v0.3 (string)"
   ]
  },
  {
   "cell_type": "code",
   "execution_count": null,
   "metadata": {},
   "outputs": [],
   "source": [
    "numbers = 0 #答案要求全部句子的总数，所以全部加起来最后才print\n",
    "for i in range(int(input())):\n",
    "    sentence = input()\n",
    "    numbers += sentence.count(\"###\")/2 - sentence.count(\"### ###\") #看答案得出的结果，但是好像只能这样做了，不知道怎么正确iterate，whatever lah\n",
    "print (int(numbers))"
   ]
  },
  {
   "cell_type": "code",
   "execution_count": 18,
   "metadata": {},
   "outputs": [
    {
     "name": "stdout",
     "output_type": "stream",
     "text": [
      "Help on method_descriptor:\n",
      "\n",
      "count(...) unbound builtins.str method\n",
      "    S.count(sub[, start[, end]]) -> int\n",
      "\n",
      "    Return the number of non-overlapping occurrences of substring sub in\n",
      "    string S[start:end].  Optional arguments start and end are\n",
      "    interpreted as in slice notation.\n",
      "\n"
     ]
    }
   ],
   "source": [
    "help(str.count)"
   ]
  },
  {
   "cell_type": "markdown",
   "metadata": {},
   "source": [
    "OJ #21532 数学密码"
   ]
  },
  {
   "cell_type": "code",
   "execution_count": null,
   "metadata": {},
   "outputs": [],
   "source": [
    "# Time limit exceed: \n",
    "# sum_int = int(input())\n",
    "# possible = []\n",
    "# for i in range(1, sum_int + 1):\n",
    "#     if (sum_int - 3*i) % i == 0: \n",
    "#         if (sum_int - 3*i) / i > 2:\n",
    "#             possible.append(i)\n",
    "# possible.pop()\n",
    "\n",
    "# Way 2:\n",
    "get_int = int(input())\n",
    "for k in range(6, get_int + 1):\n",
    "    if get_int % k == 0:\n",
    "        poss = get_int / k\n",
    "        if (get_int / poss) / k == 1:\n",
    "            print (int(poss))\n",
    "            break\n",
    "\n",
    "# Ans from net, same as mine using k start from 6 to calculate, until find the k that can make k*i just equal to n (the smallest, the largest)\n",
    "n=int(input())\n",
    "i = 1 + 2 + 3\n",
    "while n%i != 0:\n",
    "    i += 1\n",
    "else:\n",
    "    print(n // i)"
   ]
  },
  {
   "cell_type": "markdown",
   "metadata": {},
   "source": [
    "OJ #18223 24点"
   ]
  },
  {
   "cell_type": "code",
   "execution_count": null,
   "metadata": {},
   "outputs": [],
   "source": [
    "for m in range(int(input())):\n",
    "    x1, x2, x3, x4 = map(int, input().split())\n",
    "    TOF = 'NO'\n",
    "    for h in [x1, -x1]:\n",
    "        for i in [x2, -x2]:\n",
    "            for j in [x3, -x3]:\n",
    "                for k in [x4, -x4]:\n",
    "                    if h + i + j + k == 24:\n",
    "                        TOF = 'YES'\n",
    "                        break\n",
    "    print (TOF)\n"
   ]
  },
  {
   "cell_type": "markdown",
   "metadata": {},
   "source": [
    "OJ #01003 Hangover"
   ]
  },
  {
   "cell_type": "code",
   "execution_count": null,
   "metadata": {},
   "outputs": [],
   "source": [
    "import sys\n",
    "help(sys)\n",
    "# GPT got a nice description about sys"
   ]
  },
  {
   "cell_type": "code",
   "execution_count": null,
   "metadata": {},
   "outputs": [],
   "source": [
    "while True:\n",
    "    number = float(input())\n",
    "    total = 0\n",
    "    if number == 0.0:\n",
    "        break\n",
    "    else: \n",
    "        for n in range(2, 500): # checked, after sum until 1/500 already over 5.20, which is the maximum of input of this problem\n",
    "            total += 1/n\n",
    "            if total >= number:\n",
    "                print(n-1, \"card(s)\") # bcs the first card got a denominator of 2, so the exact card numbers should be n-1\n",
    "                break\n"
   ]
  },
  {
   "cell_type": "markdown",
   "metadata": {},
   "source": [
    "CF #1374B Multiply by 2, divide by 6"
   ]
  },
  {
   "cell_type": "code",
   "execution_count": null,
   "metadata": {},
   "outputs": [],
   "source": [
    "for t in range(int(input())):\n",
    "    n = int(input())\n",
    "    moves = 0\n",
    "    while True:\n",
    "        if n == 1:\n",
    "            print (moves)\n",
    "            break\n",
    "        elif 0 < n % 6 < 3 or 3 < n % 6 < 6:\n",
    "            print (-1)\n",
    "            break\n",
    "        elif n % 6 == 0 and n / 6 > 0:\n",
    "            n /= 6\n",
    "            moves += 1\n",
    "        elif n % 6 != 0: \n",
    "            n *= 2\n",
    "            moves += 1\n"
   ]
  },
  {
   "cell_type": "markdown",
   "metadata": {},
   "source": [
    "CF #460A. Vasya and Socks"
   ]
  },
  {
   "cell_type": "code",
   "execution_count": null,
   "metadata": {},
   "outputs": [],
   "source": [
    "# brute force (implementation)\n",
    "n, m = map(int, input().split())\n",
    "days = 0\n",
    "while n != 0:\n",
    "    days += 1\n",
    "    n -= 1\n",
    "    if days % m == 0:\n",
    "        n += 1\n",
    "print(days)\n"
   ]
  },
  {
   "cell_type": "markdown",
   "metadata": {},
   "source": [
    "OJ #23564 数论"
   ]
  },
  {
   "cell_type": "code",
   "execution_count": null,
   "metadata": {},
   "outputs": [],
   "source": [
    "# 来自OJ上提示的函数\n",
    "def pFactors(n):\n",
    "    \"\"\"Finds the prime factors of 'n'\"\"\"\n",
    "    from math import sqrt\n",
    "    pFact, limit, check, num = [], int(sqrt(n)) + 1, 2, n\n",
    "\n",
    "    for check in range(2, limit):\n",
    "        while num % check == 0:\n",
    "            pFact.append(check)\n",
    "            num /= check\n",
    "    if num > 1:\n",
    "        pFact.append(num)\n",
    "    return pFact\n",
    "\n",
    "ans = pFactors(int(input()))\n",
    "pfzys = 0\n",
    "for i in range(1, len(ans)):\n",
    "    if ans[i] == ans[i-1]:\n",
    "        pfzys += 1\n",
    "if pfzys > 0:\n",
    "    print(0)\n",
    "elif pfzys == 0 and len(ans) %2 == 0:\n",
    "    print(1)\n",
    "else: \n",
    "    print(-1)\n",
    "\n",
    "# try by myself, inspired by above: \n",
    "get_num = int(input())\n",
    "const_num = get_num\n",
    "zys = []\n",
    "i = 2\n",
    "while 1 < i < const_num + 1: #注意if, elif的顺序，影响能否提前离开loop / 判断条件的优先级\n",
    "    if get_num == 1:\n",
    "        break\n",
    "    elif get_num % i == 0:\n",
    "        zys.append(i)\n",
    "        get_num /= i\n",
    "    elif get_num % i != 0:\n",
    "        i += 1\n",
    "\n",
    "pfzys = 0\n",
    "for i in range(1, len(zys)):\n",
    "    if zys[i] == zys[i-1]:\n",
    "        pfzys += 1\n",
    "if pfzys > 0:\n",
    "    print(0)\n",
    "elif pfzys == 0 and len(zys) %2 == 0:\n",
    "    print(1)\n",
    "else: \n",
    "    print(-1)"
   ]
  },
  {
   "cell_type": "markdown",
   "metadata": {},
   "source": [
    "CF #474A. Keyboard"
   ]
  },
  {
   "cell_type": "code",
   "execution_count": null,
   "metadata": {},
   "outputs": [],
   "source": [
    "shifting1 = ' '.join(\"qwertyuiop\").split()\n",
    "shifting2 = ' '.join(\"asdfghjkl;\").split()\n",
    "shifting3 = ' '.join(\"zxcvbnm,./\").split()\n",
    "shift = input()\n",
    "typo = input()\n",
    "original = []\n",
    "if shift == \"R\":\n",
    "    for i in typo:\n",
    "        if i in shifting1:\n",
    "            m = shifting1.index(i)\n",
    "            original.append(shifting1[m-1])\n",
    "        elif i in shifting2:\n",
    "            m = shifting2.index(i)\n",
    "            original.append(shifting2[m-1])\n",
    "        elif i in shifting3:\n",
    "            m = shifting3.index(i)\n",
    "            original.append(shifting3[m-1])\n",
    "elif shift == \"L\":\n",
    "    for i in typo:\n",
    "        if i in shifting1:\n",
    "            m = shifting1.index(i)\n",
    "            original.append(shifting1[m+1])\n",
    "        elif i in shifting2:\n",
    "            m = shifting2.index(i)\n",
    "            original.append(shifting2[m+1])\n",
    "        elif i in shifting3:\n",
    "            m = shifting3.index(i)\n",
    "            original.append(shifting3[m+1])\n",
    "print(*original, sep = '')"
   ]
  },
  {
   "cell_type": "markdown",
   "metadata": {},
   "source": [
    "OJ #03413 验证“哥德巴赫猜想”"
   ]
  },
  {
   "cell_type": "code",
   "execution_count": null,
   "metadata": {},
   "outputs": [],
   "source": [
    "#暴力解法\n",
    "x = int(input())\n",
    "temp = x\n",
    "zs = []\n",
    "for i in range(2, x//2 + 1):\n",
    "    for n in range(2, i + 1):\n",
    "        if i == n:\n",
    "            zs.append(i)\n",
    "            break\n",
    "        elif i % n == 0:\n",
    "            break\n",
    "\n",
    "zs2 = []\n",
    "for i in range(x // 2, x):\n",
    "    for n in range(2, i + 1):\n",
    "        if i == n:\n",
    "            zs2.append(i)\n",
    "            break\n",
    "        elif i % n == 0:\n",
    "            break\n",
    "\n",
    "if x < 6 or x % 2 != 0: #\"不是大于等于6\" = 不要小于6\n",
    "    print('Error!')\n",
    "else:\n",
    "    for ss in zs:\n",
    "        if (x-ss) in zs2:\n",
    "            dets = [x, \"=\", ss, \"+\", x-ss]\n",
    "            print(*dets, sep = '')\n"
   ]
  },
  {
   "cell_type": "markdown",
   "metadata": {},
   "source": [
    "CF #580A. Kefa and First Steps"
   ]
  },
  {
   "cell_type": "code",
   "execution_count": null,
   "metadata": {},
   "outputs": [],
   "source": [
    "n = int(input())\n",
    "get_money = list(map(int, input().split()))\n",
    "maxi = 1\n",
    "maxim = []\n",
    "for i in range(1, n):\n",
    "    if get_money[i-1] <= get_money[i]:\n",
    "        maxi += 1\n",
    "    else:\n",
    "        maxim.append(maxi)\n",
    "        maxi = 1\n",
    "maxim.append(maxi)\n",
    "print(max(maxim))\n"
   ]
  },
  {
   "cell_type": "markdown",
   "metadata": {},
   "source": [
    "OJ #19944 这一天星期几v0.3"
   ]
  },
  {
   "cell_type": "code",
   "execution_count": null,
   "metadata": {},
   "outputs": [],
   "source": [
    "n = int(input())\n",
    "for i in range(n):\n",
    "    Inp = input()\n",
    "    c = int(Inp[0:2])\n",
    "    y = int(Inp[2:4])\n",
    "    m = int(Inp[4:6])\n",
    "    if m == 1 or m == 2:\n",
    "        m += 12\n",
    "        y -= 1\n",
    "    if y == -1:\n",
    "        y = 99 # md垃圾提示，害得我卡了这么久，提示说y=-1是叫人要改成99，我就奇怪怎么算不对\\_/\n",
    "        c -= 1\n",
    "    d = int(Inp[6:8])\n",
    "\n",
    "    w = (y + int(y/4) + int(c/4) -2*c + int((26*(m+1))/10) + d - 1) % 7\n",
    "\n",
    "    if w == 0:\n",
    "        print(\"Sunday\")\n",
    "    elif w == 1:\n",
    "        print(\"Monday\")\n",
    "    elif w == 2:\n",
    "        print(\"Tuesday\")\n",
    "    elif w == 3:\n",
    "        print(\"Wednesday\")\n",
    "    elif w == 4:\n",
    "        print(\"Thursday\")\n",
    "    elif w == 5:\n",
    "        print(\"Friday\")\n",
    "    elif w == 6:\n",
    "        print(\"Saturday\")\n"
   ]
  }
 ],
 "metadata": {
  "kernelspec": {
   "display_name": "Python 3",
   "language": "python",
   "name": "python3"
  },
  "language_info": {
   "codemirror_mode": {
    "name": "ipython",
    "version": 3
   },
   "file_extension": ".py",
   "mimetype": "text/x-python",
   "name": "python",
   "nbconvert_exporter": "python",
   "pygments_lexer": "ipython3",
   "version": "3.12.4"
  }
 },
 "nbformat": 4,
 "nbformat_minor": 2
}
