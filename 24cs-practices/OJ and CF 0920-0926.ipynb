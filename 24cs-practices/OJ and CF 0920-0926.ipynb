{
 "cells": [
  {
   "cell_type": "markdown",
   "metadata": {},
   "source": [
    "CF #71A. Way Too Long Words"
   ]
  },
  {
   "cell_type": "code",
   "execution_count": 1,
   "metadata": {},
   "outputs": [
    {
     "name": "stdout",
     "output_type": "stream",
     "text": [
      "word\n",
      "l10n\n",
      "i18n\n",
      "p43s\n"
     ]
    }
   ],
   "source": [
    "n = int(input())\n",
    "for i in range(n):\n",
    "    word = input()\n",
    "    if len(word) <= 10:\n",
    "        print(word)\n",
    "    else:\n",
    "        long = str(len(word) - 2)\n",
    "        abb = word[0] + long + word[-1]\n",
    "        print(abb)\n"
   ]
  },
  {
   "cell_type": "markdown",
   "metadata": {},
   "source": [
    "OJ #04015 邮箱验证"
   ]
  },
  {
   "cell_type": "code",
   "execution_count": null,
   "metadata": {},
   "outputs": [],
   "source": [
    "while True:\n",
    "    try:\n",
    "        email = ''.join(input())\n",
    "        countat = 0\n",
    "        for char in email:\n",
    "            if char == \"@\":\n",
    "                countat += 1\n",
    "        if countat != 1:\n",
    "            print (\"NO\")\n",
    "            continue\n",
    "        else:\n",
    "            if email[0] == \"@\" or email[-1] == \"@\" or email[0] == \".\" or email[-1] == \".\":\n",
    "                print(\"NO\")\n",
    "                continue\n",
    "            else:\n",
    "                idx = email.index(\"@\")\n",
    "                if email[idx-1] == \".\" or email[idx+1] == \".\":\n",
    "                    print(\"NO\")\n",
    "                    continue\n",
    "                else:\n",
    "                    countdot = 0\n",
    "                    for nm in range(idx, len(email)):\n",
    "                        if email[nm] == \".\":\n",
    "                            countdot += 1\n",
    "                    if countdot > 0:\n",
    "                        print (\"YES\")\n",
    "                        continue\n",
    "                    else:\n",
    "                        print('NO')\n",
    "                        continue\n",
    "    except EOFError:\n",
    "        break"
   ]
  },
  {
   "cell_type": "markdown",
   "metadata": {},
   "source": [
    "Assignment #2 #01922 Ride to School"
   ]
  },
  {
   "cell_type": "code",
   "execution_count": 79,
   "metadata": {},
   "outputs": [
    {
     "name": "stdout",
     "output_type": "stream",
     "text": [
      "-10697.857142857143\n",
      "-2618.0\n"
     ]
    }
   ],
   "source": [
    "#来自答案\n",
    "# from math import ceil\n",
    "\n",
    "# while True:\n",
    "#     n = int(input())\n",
    "#     if n == 0:\n",
    "#         break\n",
    "\n",
    "#     max_time = float(\"inf\")\n",
    "#     rider = []\n",
    "#     for _ in range(n):\n",
    "#         speed, time = map(int, input().split())\n",
    "#         if time < 0:\n",
    "#             continue\n",
    "#         else:\n",
    "#             rider.append([speed, time])\n",
    "#         rider.sort(key = lambda x: x[1])\n",
    "#         arrival_time = ceil(((4500)/(rider[0][0]*1000/3600)) + rider[0][1])\n",
    "#         max_time = min(max_time, arrival_time)\n",
    "\n",
    "#     print(max_time)\n",
    "\n",
    "# try\n",
    "import math\n",
    "while True:\n",
    "    N_riders = int(input())\n",
    "\n",
    "    if N_riders == 0:\n",
    "        break\n",
    "    \n",
    "    distance_from_yanyuan = 4500\n",
    "    speed_of_Charlie = 0\n",
    "    time_used = 0\n",
    "    riders = []\n",
    "    for _ in range(N_riders):\n",
    "        Speed, Time = input().split()\n",
    "        riders.append((int(Speed), int(Time)))\n",
    "    riders.sort(key=lambda x: x[1])\n",
    "    \n",
    "    for i in range(N_riders):\n",
    "        if riders[i][0] < 0:\n",
    "            continue\n",
    "        else:\n",
    "            time_used += riders[i][1]\n",
    "            counting = i\n",
    "            break\n",
    "    \n",
    "    for i in range(i + 1, N_riders):\n",
    "        if riders[i-1][0] < riders[i][0]:\n",
    "            distance = (riders[i-1][0]*riders[i][0]*riders[i][1]) / (riders[i-1][0]-riders[i][0])\n",
    "            if distance < distance_from_yanyuan:\n",
    "                time_used +=  math.ceil (distance / (riders[i-1][0]*1000/3600))\n",
    "                distance_from_yanyuan -= distance\n",
    "            else:\n",
    "                time_used += math.ceil (distance_from_yanyuan / (riders[i-1][0]*1000/3600))\n",
    "                break\n",
    "    \n",
    "    print(time_used)"
   ]
  },
  {
   "cell_type": "markdown",
   "metadata": {},
   "source": [
    "CF #270A. Fancy Fence"
   ]
  },
  {
   "cell_type": "code",
   "execution_count": 13,
   "metadata": {},
   "outputs": [
    {
     "name": "stdout",
     "output_type": "stream",
     "text": [
      "NO\n",
      "YES\n",
      "YES\n"
     ]
    }
   ],
   "source": [
    "# by geometry\n",
    "t = int(input())\n",
    "for i in range(t):\n",
    "    a = int(input())\n",
    "    line = 360 / (180-a)\n",
    "    if line == int(line):\n",
    "        print(\"YES\")\n",
    "    else:\n",
    "        print(\"NO\")\n"
   ]
  },
  {
   "cell_type": "markdown",
   "metadata": {},
   "source": [
    "OJ #27273 简单的数学题"
   ]
  },
  {
   "cell_type": "code",
   "execution_count": 74,
   "metadata": {},
   "outputs": [
    {
     "name": "stdout",
     "output_type": "stream",
     "text": [
      "-4.0\n",
      "177869142.0\n"
     ]
    }
   ],
   "source": [
    "from math import log2\n",
    "t = int(input())\n",
    "for _ in range(t):\n",
    "    n = int(input())\n",
    "    sum = 0\n",
    "    if n % 2 == 0: # 先用高斯求和找出总数，两种情况（n为奇数/偶数）\n",
    "        sum += n/2 * (1+n)\n",
    "    elif n % 2 != 0:\n",
    "        sum += (n//2)*(1 + n-1) + n #注意是把最后一个去除掉不要用高斯求和，不是最中间的\n",
    "\n",
    "    power = int(log2(n)) + 1 # i的范围必然是小于等于int中能被取最大log2的数\n",
    "    for i in range(power): \n",
    "        sum -= 2 * (2**i) # 凡是2次幂都被减掉（因为上面全部都+，因此下面减掉的要*2）\n",
    "    \n",
    "    print(int(sum))\n"
   ]
  },
  {
   "cell_type": "markdown",
   "metadata": {},
   "source": [
    "SunnyWhy 单调递增序列"
   ]
  },
  {
   "cell_type": "code",
   "execution_count": 42,
   "metadata": {},
   "outputs": [
    {
     "name": "stdout",
     "output_type": "stream",
     "text": [
      "NO\n"
     ]
    }
   ],
   "source": [
    "n = int(input())\n",
    "nums = list(map(int, input().split()))\n",
    "for i in range(1, n):\n",
    "    if nums[i-1] > nums[i]:\n",
    "        print (\"NO\")\n",
    "        break\n",
    "else:\n",
    "    print(\"YES\")\n"
   ]
  },
  {
   "cell_type": "markdown",
   "metadata": {},
   "source": [
    "OJ#25538 二进制回文的整数"
   ]
  },
  {
   "cell_type": "code",
   "execution_count": 71,
   "metadata": {},
   "outputs": [
    {
     "name": "stdout",
     "output_type": "stream",
     "text": [
      "Yes\n"
     ]
    }
   ],
   "source": [
    "# Python 的内置函数 bin(x) 可以获得 x 的二进制字符串，但是开头会带有多余的 '0b' 需要去除\n",
    "code = bin(int(input()))\n",
    "code = code[2:]\n",
    "for i in range(len(code)//2):\n",
    "    if code[i] != code[-i-1]:\n",
    "        print (\"No\")\n",
    "        break\n",
    "else:\n",
    "    print(\"Yes\")\n"
   ]
  },
  {
   "cell_type": "markdown",
   "metadata": {},
   "source": [
    "SunnyWhy 水仙花数II"
   ]
  },
  {
   "cell_type": "code",
   "execution_count": null,
   "metadata": {},
   "outputs": [],
   "source": [
    "a, b = map(int, input().split())\n",
    "waterfairy = []\n",
    "for i in range(a, b+1):\n",
    "    c, d, e = map(int, ' '.join(str(i)).split())\n",
    "    if (c**3 + d**3 + e**3) == i:\n",
    "        waterfairy.append(i)\n",
    "if len(waterfairy) != 0:\n",
    "    print(*waterfairy)\n",
    "else:\n",
    "    print(\"NO\")\n"
   ]
  },
  {
   "cell_type": "markdown",
   "metadata": {},
   "source": [
    "OJ #23554 小朋友春游"
   ]
  },
  {
   "cell_type": "code",
   "execution_count": 64,
   "metadata": {},
   "outputs": [
    {
     "name": "stdout",
     "output_type": "stream",
     "text": [
      "4 9 10 11 12\n",
      "400 2000\n"
     ]
    }
   ],
   "source": [
    "n = int(input())\n",
    "kids = list(map(int, input().split()))\n",
    "kids.sort()\n",
    "lost = []\n",
    "for i in range(1, n+1):\n",
    "    if i not in kids:\n",
    "        lost.append(i)\n",
    "    else:\n",
    "        idx = i\n",
    "id = kids.index(idx)+1\n",
    "otherclass = kids[id:]\n",
    "print(*lost)\n",
    "print(*otherclass)\n"
   ]
  },
  {
   "cell_type": "markdown",
   "metadata": {},
   "source": [
    "SunnyWhy 寻找元素对"
   ]
  },
  {
   "cell_type": "code",
   "execution_count": null,
   "metadata": {},
   "outputs": [],
   "source": [
    "n = int(input())\n",
    "ints = list(map(int, input().split()))\n",
    "K = int(input())\n",
    "pairs = 0\n",
    "i = 0\n",
    "while i < n:\n",
    "    for m in range(i+1, n):\n",
    "        if ints[i] + ints[m] == K:\n",
    "            pairs += 1\n",
    "    i += 1\n",
    "\n",
    "print (pairs)\n"
   ]
  },
  {
   "cell_type": "markdown",
   "metadata": {},
   "source": [
    "OJ #21459 How old are you? (implementation)"
   ]
  },
  {
   "cell_type": "code",
   "execution_count": 54,
   "metadata": {},
   "outputs": [
    {
     "name": "stdout",
     "output_type": "stream",
     "text": [
      "3*3+1=10\n",
      "10/2=5\n",
      "5*3+1=16\n",
      "16/2=8\n",
      "8/2=4\n",
      "4/2=2\n",
      "2/2=1\n"
     ]
    }
   ],
   "source": [
    "x = int(input())\n",
    "y = x\n",
    "while x != 1:\n",
    "    if x % 2 != 0:\n",
    "        y = x * 3 + 1\n",
    "        print (\"{}*3+1={}\".format(x, y))\n",
    "    elif x % 2 == 0:\n",
    "        y = int (x / 2)\n",
    "        print (\"{}/2={}\".format(x, y))\n",
    "    x = y\n"
   ]
  },
  {
   "cell_type": "markdown",
   "metadata": {},
   "source": [
    "SunnyWhy 等腰直角三角形II"
   ]
  },
  {
   "cell_type": "code",
   "execution_count": 48,
   "metadata": {},
   "outputs": [
    {
     "name": "stdout",
     "output_type": "stream",
     "text": [
      "*\n",
      "**\n",
      "* *\n",
      "*  *\n",
      "*****\n"
     ]
    }
   ],
   "source": [
    "n = int(input())\n",
    "tria = \"\"\n",
    "i = 0\n",
    "for i in range(n): \n",
    "    if i == 0:\n",
    "        tria += \"*\\n\"\n",
    "        i += 1\n",
    "    elif 0 < i < n-1:\n",
    "        tria += \"*\" + \" \"*(i-1) + \"*\\n\"\n",
    "    else:\n",
    "        tria += \"*\"*n\n",
    "print(tria)\n"
   ]
  },
  {
   "cell_type": "markdown",
   "metadata": {},
   "source": [
    "OJ #01017 装箱问题"
   ]
  },
  {
   "cell_type": "code",
   "execution_count": 3,
   "metadata": {},
   "outputs": [
    {
     "name": "stdout",
     "output_type": "stream",
     "text": [
      "2\n",
      "1\n",
      "16\n"
     ]
    }
   ],
   "source": [
    "import math\n",
    "while True:\n",
    "    square1, square2, square3, square4, square5, square6 = map(int, input().split())\n",
    "    if square1 + square2 + square3 + square4 + square5 + square6 == 0:\n",
    "        break\n",
    "\n",
    "    boxes = square6 + square5 + square4 + math.ceil(square3/4)\n",
    "    unused1 = square5*11\n",
    "    unused2 = square4*5\n",
    "    if square3 % 4 != 0:\n",
    "        unused2 += 7 - ((square3 % 4)*9)//4\n",
    "        unused1 += 8 - (square3 % 4)\n",
    "\n",
    "    if square2 >= unused2:\n",
    "        square2 -= unused2\n",
    "        boxes += math.ceil(square2/9)\n",
    "        if square2 % 9 != 0:\n",
    "            unused1 += (9 - square2 % 9)*4\n",
    "    else:\n",
    "        unused1 += (unused2 - square2)*4\n",
    "    \n",
    "    square1 -= unused1\n",
    "    if square1 > 0:\n",
    "        boxes += math.ceil(square1/36)\n",
    "    \n",
    "    print (boxes)\n",
    "\n",
    "# by ans\n",
    "import math\n",
    "rest = [0,5,3,1]\n",
    "\n",
    "while True:\n",
    "    a,b,c,d,e,f = map(int,input().split())\n",
    "    if a + b + c + d + e + f == 0:\n",
    "        break\n",
    "    boxes = d + e + f           #装4*4, 5*5, 6*6\n",
    "    boxes += math.ceil(c/4)     #填3*3\n",
    "    spaceforb = 5*d + rest[c%4] #能和4*4 3*3 一起放的2*2\n",
    "    if b > spaceforb:\n",
    "    \tboxes += math.ceil((b - spaceforb)/9)\n",
    "    spacefora = boxes*36 - (36*f + 25*e + 16*d + 9*c + 4*b)     #和其他箱子一起的填的1*1\n",
    "    \n",
    "    if a > spacefora:\n",
    "        boxes += math.ceil((a - spacefora)/36)\n",
    "    print(boxes)"
   ]
  },
  {
   "cell_type": "markdown",
   "metadata": {},
   "source": [
    "SunnyWhy 日期加法"
   ]
  },
  {
   "cell_type": "code",
   "execution_count": 22,
   "metadata": {},
   "outputs": [
    {
     "name": "stdout",
     "output_type": "stream",
     "text": [
      "1927-05-20\n"
     ]
    }
   ],
   "source": [
    "DAY = input()\n",
    "year = int(DAY[0:4])\n",
    "month = int(DAY[5:7])\n",
    "day = int(DAY[8:10])\n",
    "n = int(input())\n",
    "day += n\n",
    "while day > 31:\n",
    "    if month > 12:\n",
    "        month -= 12\n",
    "        year += 1\n",
    "    \n",
    "    if month == 2:\n",
    "        if year % 4 == 0:\n",
    "            if (year%100 == 0 and year%400 !=0) or year%3200 == 0:\n",
    "                day -= 28\n",
    "                month += 1\n",
    "            else:\n",
    "                day -= 29\n",
    "                month += 1\n",
    "        else:\n",
    "            day -= 28\n",
    "            month += 1\n",
    "    elif month == 4 or month == 6 or month == 9 or month == 11:\n",
    "        day -= 30\n",
    "        month += 1\n",
    "    elif month == 1 or month == 3 or month == 5 or month == 7 or month == 8 or month == 10 or month == 12:\n",
    "        day -= 31\n",
    "        month += 1\n",
    "\n",
    "if month < 10:\n",
    "    month = \"0\" + str(month)\n",
    "if day < 10:\n",
    "    day = \"0\" + str(day)\n",
    "\n",
    "print(\"{}-{}-{}\".format(year, month, day))"
   ]
  },
  {
   "cell_type": "markdown",
   "metadata": {},
   "source": [
    "OJ #01218 The Drunk Jailer"
   ]
  },
  {
   "cell_type": "code",
   "execution_count": 2,
   "metadata": {},
   "outputs": [
    {
     "name": "stdout",
     "output_type": "stream",
     "text": [
      "2\n",
      "10\n"
     ]
    }
   ],
   "source": [
    "t = int(input())\n",
    "for i in range(t):\n",
    "    n = int(input())\n",
    "    prisoned = [0]*n\n",
    "    for j in range(1, n+1):\n",
    "        for k in range(1, n+1):\n",
    "            if k % j == 0:\n",
    "                if prisoned[k-1] == 1:\n",
    "                    prisoned[k-1] = 0\n",
    "                else:\n",
    "                    prisoned[k-1] = 1\n",
    "    print(sum(prisoned))\n"
   ]
  }
 ],
 "metadata": {
  "kernelspec": {
   "display_name": "Python 3",
   "language": "python",
   "name": "python3"
  },
  "language_info": {
   "codemirror_mode": {
    "name": "ipython",
    "version": 3
   },
   "file_extension": ".py",
   "mimetype": "text/x-python",
   "name": "python",
   "nbconvert_exporter": "python",
   "pygments_lexer": "ipython3",
   "version": "3.12.4"
  }
 },
 "nbformat": 4,
 "nbformat_minor": 2
}
