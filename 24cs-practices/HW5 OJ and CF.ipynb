{
 "cells": [
  {
   "cell_type": "markdown",
   "metadata": {},
   "source": [
    "OJ #04148 生理周期"
   ]
  },
  {
   "cell_type": "code",
   "execution_count": 52,
   "metadata": {},
   "outputs": [
    {
     "name": "stdout",
     "output_type": "stream",
     "text": [
      "3\n"
     ]
    }
   ],
   "source": [
    "# Only one day will get a peak in 21252\n",
    "n = 0\n",
    "while True:\n",
    "    p, e, i, d = map(int, input().split())\n",
    "    n += 1\n",
    "    if (d and p and e and i) == -1:\n",
    "        break\n",
    "\n",
    "    while p > 23:\n",
    "        p -= 23\n",
    "    while e > 28:\n",
    "        e -= 28\n",
    "    while i > 33:\n",
    "        i -= 33\n",
    "\n",
    "    next_peak = d + 1\n",
    "    while True:\n",
    "        if (next_peak - p) % 23 == 0 and (next_peak - e) % 28 == 0 and (next_peak - i) % 33 == 0:\n",
    "            print (f\"Case {n}: the next triple peak occurs in {next_peak - d} days.\")\n",
    "            break\n",
    "        next_peak += 1\n",
    "        if next_peak > d + 21252:\n",
    "            print(\"wrong\")\n",
    "            break\n"
   ]
  },
  {
   "cell_type": "markdown",
   "metadata": {},
   "source": [
    "OJ #18211 军备竞赛 v0.2"
   ]
  },
  {
   "cell_type": "code",
   "execution_count": 75,
   "metadata": {},
   "outputs": [
    {
     "name": "stdout",
     "output_type": "stream",
     "text": [
      "1\n"
     ]
    }
   ],
   "source": [
    "p = int(input())\n",
    "papers = sorted(list(map(int, input().split())))\n",
    "mine = 0\n",
    "enemy = 0\n",
    "i = 0\n",
    "j = -1\n",
    "while i - len(papers) < j:\n",
    "    if p >= papers[i]:\n",
    "        p -= papers[i]\n",
    "        mine += 1\n",
    "        i += 1\n",
    "    else:\n",
    "        if mine > enemy:\n",
    "            enemy += 1\n",
    "            p += papers[j]\n",
    "            j -= 1\n",
    "        else:\n",
    "            break\n",
    "\n",
    "if i - len(papers) == j and p >= papers[i]:\n",
    "    mine += 1\n",
    "\n",
    "print (mine - enemy)\n"
   ]
  },
  {
   "cell_type": "markdown",
   "metadata": {},
   "source": [
    "OJ #21554 排队做实验 v0.2"
   ]
  },
  {
   "cell_type": "code",
   "execution_count": 81,
   "metadata": {},
   "outputs": [
    {
     "name": "stdout",
     "output_type": "stream",
     "text": [
      "6 5 3 1 4 8 10 2 7 9\n",
      "431.90\n"
     ]
    }
   ],
   "source": [
    "n = int(input())\n",
    "get_time = list(map(int, input().split()))\n",
    "get_order = []\n",
    "for i in range(len(get_time)):\n",
    "    get_order.append([i+1, get_time[i]])\n",
    "get_order.sort(key = lambda x: x[1]) # using the element in get_order, which is lists: using the second elemeents of these list to sort\n",
    "\n",
    "temp_waiting = 0\n",
    "waiting = 0\n",
    "for i in range(len(get_time)):\n",
    "    waiting += temp_waiting\n",
    "    temp_waiting += get_order[i][1]\n",
    "waiting /= n\n",
    "\n",
    "print(*(get_order[i][0] for i in range(n)))\n",
    "print(f\"{waiting:.2f}\") # or using \"{:.2f}\".format(waiting)"
   ]
  },
  {
   "cell_type": "markdown",
   "metadata": {},
   "source": [
    "OJ #01008 Maya Calander"
   ]
  },
  {
   "cell_type": "code",
   "execution_count": null,
   "metadata": {},
   "outputs": [],
   "source": []
  },
  {
   "cell_type": "markdown",
   "metadata": {},
   "source": [
    "CF #545C Woodcutters"
   ]
  },
  {
   "cell_type": "code",
   "execution_count": 103,
   "metadata": {},
   "outputs": [
    {
     "name": "stdout",
     "output_type": "stream",
     "text": [
      "4\n"
     ]
    }
   ],
   "source": [
    "# greedy\n",
    "n = int(input())\n",
    "trees = []\n",
    "for _ in range(n):\n",
    "    c, h = map(int, input().split())\n",
    "    trees.append([c, h])\n",
    "\n",
    "last_position = trees[0][0]\n",
    "chopped = 1\n",
    "for i in range(1, n-1):\n",
    "    c, h = trees[i] # get data from list\n",
    "    left = c - h\n",
    "    middle = c\n",
    "    right =  c + h\n",
    "\n",
    "    if middle <= last_position: # seems like not passible to happen\n",
    "        continue\n",
    "    elif left > last_position: # tree can fall to left\n",
    "        last_position = middle\n",
    "        chopped += 1\n",
    "    elif middle > last_position and right < trees[i+1][0]: # check if tree can fall to right (except the last tree can always fall to right)\n",
    "        last_position = right\n",
    "        chopped += 1\n",
    "    else: # since can't fall, but a block to reach more left\n",
    "        last_position = c\n",
    "\n",
    "if n > 1: # cannot simply set chopped = 2\n",
    "    chopped += 1\n",
    "\n",
    "print(chopped)\n"
   ]
  },
  {
   "cell_type": "code",
   "execution_count": 1,
   "metadata": {},
   "outputs": [
    {
     "name": "stdout",
     "output_type": "stream",
     "text": [
      "[[1, 7], [3, 11], [6, 12], [7, 6], [8, 5], [9, 11], [15, 3], [16, 10], [22, 2], [23, 3], [25, 7], [27, 3], [34, 5], [35, 10], [37, 3], [39, 4], [40, 5], [41, 1], [44, 1], [47, 7], [48, 11], [50, 6], [52, 5], [57, 2], [58, 7], [60, 4], [62, 1], [67, 3], [68, 12], [69, 8], [70, 1], [71, 5], [72, 5], [73, 6], [74, 4]]\n",
      "11\n",
      "11\n"
     ]
    }
   ],
   "source": [
    "# DP\n",
    "n = int(input())\n",
    "trees = []\n",
    "for _ in range(n):\n",
    "    c, h = map(int, input().split())\n",
    "    trees.append([c, h])\n",
    "\n",
    "if n == 1: # if only have one tree :)\n",
    "    print(1)\n",
    "    exit() # break version without while, not recommend in big program, can use sys.exit() to get an error code\n",
    "\n",
    "# first tree, can always fall\n",
    "stay = 0\n",
    "left = 1\n",
    "right = 1\n",
    "\n",
    "for i in range(1, n):\n",
    "    maxi = max(stay, left, right)\n",
    "    stay = maxi # when i-th stay\n",
    "\n",
    "    if right == maxi and left != maxi:\n",
    "        if trees[i][0] - trees[i][1] > trees[i-1][0] + trees[i-1][1]: # special situation, previous one fall right and overlap with the present tree falling left\n",
    "            left = maxi + 1\n",
    "        else:\n",
    "            left = maxi\n",
    "    else: \n",
    "        if trees[i][0] - trees[i][1] > trees[i-1][0]: # can fall left\n",
    "            left = maxi + 1\n",
    "        else:\n",
    "            left = maxi\n",
    "\n",
    "    if i == n - 1 or (trees[i][0] + trees[i][1]) < trees[i+1][0]: # i-th fall right / the last (to prevent an error like above done bfr)\n",
    "        right = maxi + 1\n",
    "    else:\n",
    "        right = maxi\n",
    "\n",
    "print(max(stay, left, right))\n"
   ]
  },
  {
   "cell_type": "markdown",
   "metadata": {},
   "source": [
    "OJ #01328 Radar Installation"
   ]
  },
  {
   "cell_type": "code",
   "execution_count": null,
   "metadata": {},
   "outputs": [],
   "source": []
  }
 ],
 "metadata": {
  "kernelspec": {
   "display_name": "Python 3",
   "language": "python",
   "name": "python3"
  },
  "language_info": {
   "codemirror_mode": {
    "name": "ipython",
    "version": 3
   },
   "file_extension": ".py",
   "mimetype": "text/x-python",
   "name": "python",
   "nbconvert_exporter": "python",
   "pygments_lexer": "ipython3",
   "version": "3.12.4"
  }
 },
 "nbformat": 4,
 "nbformat_minor": 2
}
