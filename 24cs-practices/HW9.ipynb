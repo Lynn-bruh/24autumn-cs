{
 "cells": [
  {
   "cell_type": "markdown",
   "metadata": {},
   "source": [
    "OJ #18160 最大连通域面积"
   ]
  },
  {
   "cell_type": "code",
   "execution_count": null,
   "metadata": {},
   "outputs": [],
   "source": [
    "# matrix, not completed\n",
    "T = int(input())\n",
    "for _ in range(T):\n",
    "    N, M = map(int, input().split())\n",
    "    chess = [[0]*M for _ in range(N)]\n",
    "    for i in range(N):\n",
    "        put_chess = input().split()\n",
    "        for j in range(M):\n",
    "            if put_chess[i] == \"W\":\n",
    "                chess[i][j] += 1\n",
    "    print(chess)\n",
    "    for i in range(N):\n",
    "        for j in range(M):\n",
    "            if chess[i][j] == 1:\n",
    "                "
   ]
  },
  {
   "cell_type": "code",
   "execution_count": null,
   "metadata": {},
   "outputs": [
    {
     "name": "stdout",
     "output_type": "stream",
     "text": [
      "[[1, 0, 0, 0, 0, 0, 0, 0, 0, 1, 1, 0], [0, 1, 1, 1, 0, 0, 0, 0, 0, 1, 1, 1], [0, 0, 0, 0, 1, 1, 0, 0, 0, 1, 1, 0], [0, 0, 0, 0, 0, 0, 0, 0, 0, 1, 1, 0], [0, 0, 0, 0, 0, 0, 0, 0, 0, 1, 1, 0], [0, 0, 1, 0, 0, 0, 0, 0, 0, 1, 0, 0], [0, 0, 1, 0, 0, 0, 0, 0, 0, 1, 0, 0], [1, 0, 1, 0, 1, 0, 0, 0, 0, 0, 1, 0], [0, 1, 0, 1, 0, 0, 0, 0, 0, 0, 1, 0], [0, 0, 1, 0, 0, 0, 0, 0, 0, 0, 1, 0]]\n",
      "16\n"
     ]
    }
   ],
   "source": [
    "# dfs\n",
    "def largest_connected_area(matrix):\n",
    "    if not matrix or not matrix[0]:\n",
    "        return 0\n",
    "\n",
    "    rows, cols = len(matrix), len(matrix[0])\n",
    "    visited = [[False for _ in range(cols)] for _ in range(rows)]\n",
    "    max_area = 0\n",
    "\n",
    "    directions = [(-1, -1), (-1, 0), (-1, 1),\n",
    "                  (0, -1),         (0, 1),\n",
    "                  (1, -1), (1, 0), (1, 1)]\n",
    "\n",
    "    def dfs(r, c): # put inside a function since this used variable used before\n",
    "        stack = [(r, c)]\n",
    "        area = 0\n",
    "\n",
    "        while stack:\n",
    "            x, y = stack.pop()\n",
    "            if visited[x][y]:\n",
    "                continue\n",
    "\n",
    "            visited[x][y] = True\n",
    "            area += 1\n",
    "\n",
    "            for dr, dc in directions: # explore all neighbours\n",
    "                nr, nc = x + dr, y + dc\n",
    "                if 0 <= nr < rows and 0 <= nc < cols and not visited[nr][nc] and matrix[nr][nc] == 1:\n",
    "                    stack.append((nr, nc))\n",
    "\n",
    "        return area\n",
    "\n",
    "    for row in range(rows):\n",
    "        for col in range(cols):\n",
    "            if matrix[row][col] == 1 and not visited[row][col]:\n",
    "                area = dfs(row, col) # Perform DFS and calculate the area\n",
    "                max_area = max(max_area, area)\n",
    "\n",
    "    return max_area\n",
    "\n",
    "T = int(input())\n",
    "for _ in range(T):\n",
    "    N, M = map(int, input().split())\n",
    "    chess = []\n",
    "    for _ in range(N):\n",
    "        chess_row = []\n",
    "        chess_input = ' '.join(input()).split()\n",
    "        for i in range(M):\n",
    "            if chess_input[i] == \"W\":\n",
    "                chess_row.append(1)\n",
    "            else:\n",
    "                chess_row.append(0)\n",
    "        chess.append(chess_row)\n",
    "\n",
    "    print(largest_connected_area(chess))"
   ]
  },
  {
   "cell_type": "markdown",
   "metadata": {},
   "source": [
    "OJ #19930 寻宝"
   ]
  },
  {
   "cell_type": "code",
   "execution_count": null,
   "metadata": {},
   "outputs": [
    {
     "name": "stdout",
     "output_type": "stream",
     "text": [
      "5\n"
     ]
    }
   ],
   "source": [
    "from collections import deque\n",
    "def is_valid(x, y):\n",
    "    if 0 <= x < m and 0 <= y < n:\n",
    "        if not visited[x][y] and grid[x][y] != 2: # cannot visited and cannot be 2 simultaneously\n",
    "            return True\n",
    "    return False\n",
    "\n",
    "def bfs(x, y):\n",
    "    q = deque()\n",
    "    q.append((x, y))\n",
    "    visited[x][y] = True\n",
    "    step = 0\n",
    "\n",
    "    while q:\n",
    "        for _ in range(len(q)): # Iterate all possibles of current step\n",
    "            cx, cy = q.popleft()\n",
    "            if grid[cx][cy] == 1:\n",
    "                return step\n",
    "            \n",
    "            for dx, dy in direction: # all possible movements\n",
    "                nx, ny = cx + dx, cy + dy\n",
    "                if is_valid(nx, ny):\n",
    "                    visited[nx][ny] = True\n",
    "                    q.append((nx, ny))\n",
    "        step += 1\n",
    "    return 'NO' # if the target does not found\n",
    "\n",
    "m, n = map(int, input().split())\n",
    "direction = [(-1, 0), (1, 0), (0, 1), (0, -1)] # left, right, up, down\n",
    "visited = [[False for _ in range(n)] for _ in range(m)]\n",
    "grid = [] # dun use 'map' as variable name!\n",
    "for i in range(m):\n",
    "    grid.append([int(x) for x in input().split()])\n",
    "\n",
    "print(bfs(0, 0)) # since definitely starting from (0, 0)\n"
   ]
  },
  {
   "cell_type": "code",
   "execution_count": null,
   "metadata": {},
   "outputs": [],
   "source": [
    "from collections import deque\n",
    "\n",
    "def bfs(s, e):\n",
    "    move = [(-1,0), (1,0), (0,1), (0,-1)]\n",
    "    inq = set()\n",
    "    inq.add(s)\n",
    "    q = deque()\n",
    "    q.append((0, s))\n",
    "    while q:\n",
    "        now, top = q.popleft()\n",
    "        if top == e:\n",
    "            return now\n",
    "        \n",
    "        if "
   ]
  },
  {
   "cell_type": "code",
   "execution_count": null,
   "metadata": {},
   "outputs": [],
   "source": [
    "#23 工学院 苏王捷\n",
    "import heapq\n",
    "def bfs(x,y):\n",
    "    d=[(-1,0), (1,0), (0,1), (0,-1)]\n",
    "    queue=[]\n",
    "    heapq.heappush(queue,[0,x,y])\n",
    "    check=set()\n",
    "    check.add((x,y))\n",
    "    while queue:\n",
    "        step,x,y=map(int,heapq.heappop(queue))\n",
    "        if martix[x][y]==1:\n",
    "            return step\n",
    "        for i in range(4):\n",
    "            dx,dy=x+d[i][0],y+d[i][1]\n",
    "            if martix[dx][dy]!=2 and (dx,dy) not in check:\n",
    "                heapq.heappush(queue,[step+1,dx,dy])\n",
    "                check.add((dx,dy))\n",
    "    return \"NO\"\n",
    "\n",
    "m,n=map(int,input().split())\n",
    "martix=[[2]*(n+2)]+[[2]+list(map(int,input().split()))+[2] for i in range(m)]+[[2]*(n+2)]\n",
    "print(bfs(1,1))"
   ]
  },
  {
   "cell_type": "code",
   "execution_count": null,
   "metadata": {},
   "outputs": [],
   "source": [
    "q = []\n",
    "\n",
    "step = [[0, 1], [1, 0], [-1, 0], [0, -1]]\n",
    "vis = [[0] * 52 for _ in range(52)]\n",
    "g = []\n",
    "\n",
    "m, n = map(int, input().split())\n",
    "for i in range(m):\n",
    "    g.append([int(x) for x in input().split()])\n",
    "\n",
    "def check(x, y):\n",
    "    if (x < 0 or y < 0 or x >= m or y >= n):\n",
    "        return False\n",
    "    if (vis[x][y] or g[x][y] == 2):\n",
    "        return False\n",
    "    return True\n",
    "\n",
    "\n",
    "q.append((0, 0))\n",
    "head = 0\n",
    "tail = 1\n",
    "level = 0\n",
    "while (head < tail):\n",
    "    # i = head\n",
    "    # j = tail\n",
    "    for k in range(head, tail):\n",
    "        x, y = q[head]\n",
    "        head += 1\n",
    "        if (g[x][y] == 1):\n",
    "            print(level)\n",
    "            exit(0)     \n",
    "        for z in range(4):\n",
    "            newx = x + step[z][0]\n",
    "            newy = y + step[z][1]\n",
    "            if (check(newx, newy)):\n",
    "                vis[newx][newy] = 1\n",
    "                q.append((newx, newy))\n",
    "                tail += 1\n",
    "    level += 1\n",
    "print('NO')"
   ]
  },
  {
   "cell_type": "markdown",
   "metadata": {},
   "source": [
    "OJ #04123 马走日"
   ]
  },
  {
   "cell_type": "code",
   "execution_count": 15,
   "metadata": {},
   "outputs": [
    {
     "name": "stdout",
     "output_type": "stream",
     "text": [
      "32\n"
     ]
    }
   ],
   "source": [
    "direction = [(-2, 1), (-1, 2), (1, 2), (2, 1), \n",
    "             (-2, -1), (-1, -2), (1, -2), (2, -1)]\n",
    "\n",
    "def passing(n, m, x, y):\n",
    "    visited = [[False for _ in range(m)] for _ in range(n)]\n",
    "    visited[x][y] = True\n",
    "    total_cell = n*m # total_cell need to be visited\n",
    "    return count_path(n, m, x, y, visited, 1, total_cell)\n",
    "\n",
    "def count_path (n, m, x, y, visited, count, total_cell):\n",
    "    if count == total_cell: # all cell visited, this path completed\n",
    "        return 1\n",
    "    \n",
    "    total_paths = 0 # if no path is completed, none returned, total path still = 0\n",
    "    for dx, dy in direction:\n",
    "        nx, ny = x + dx, y + dy\n",
    "        if 0 <= nx < n and 0 <= ny < m and not visited[nx][ny]:\n",
    "            visited[nx][ny] = True # visited this cell\n",
    "            total_paths += count_path(n, m, nx, ny, visited, count+1, total_cell) # using this step as \"previous\" step, and find \"next\" step\n",
    "            visited[nx][ny] = False # backtrack, use the other step as \"previous\" step\n",
    "\n",
    "    return total_paths\n",
    "T = int(input())\n",
    "\n",
    "for _ in range(T):\n",
    "    n, m, x, y = map(int, input().split())\n",
    "    print(passing(n, m, x, y))\n"
   ]
  },
  {
   "cell_type": "markdown",
   "metadata": {},
   "source": [
    "SY #316 矩阵最大权值路径"
   ]
  },
  {
   "cell_type": "code",
   "execution_count": 11,
   "metadata": {},
   "outputs": [
    {
     "name": "stdout",
     "output_type": "stream",
     "text": [
      "1 1\n",
      "2 1\n",
      "2 2\n"
     ]
    }
   ],
   "source": [
    "def is_valid(x, y):\n",
    "    return 0 <= x < n and 0 <= y < m and not visited[x][y]\n",
    "\n",
    "def finding_paths(x, y, cur_weight, path:list):\n",
    "    global max_weight, best_path\n",
    "    if (x, y) == (n-1, m-1): # reach the end\n",
    "        if cur_weight > max_weight:\n",
    "            max_weight = cur_weight\n",
    "            best_path = path[:]\n",
    "        return # already make changes on global best_path\n",
    "    \n",
    "    for dx, dy in direction:\n",
    "        nx, ny = x + dx, y + dy\n",
    "\n",
    "        if is_valid(nx, ny):\n",
    "            visited[nx][ny] = True\n",
    "            path.append((nx+1, ny+1))\n",
    "            finding_paths(nx, ny, cur_weight+weight[nx][ny], path) # recursion\n",
    "            path.pop() # backtrack\n",
    "            visited[nx][ny] = False\n",
    "\n",
    "n, m = map(int, input().split())\n",
    "weight = []\n",
    "for i in range(n):\n",
    "    weight.append(list(map(int, input().split())))\n",
    "direction = [(-1, 0), (1, 0), (0, 1), (0, -1)] # up, down, right, left\n",
    "visited = [[False for _ in range(m)] for _ in range(n)]\n",
    "best_path = []\n",
    "max_weight = -float('inf') # since got negative weight, need to get the larger's\n",
    "visited[0][0] = True\n",
    "finding_paths(0, 0, weight[0][0], [(1, 1)]) # must start from top-left\n",
    "for x, y in best_path:\n",
    "    print(x, y)"
   ]
  },
  {
   "cell_type": "markdown",
   "metadata": {},
   "source": [
    "LeetCode #62 不同路径"
   ]
  },
  {
   "cell_type": "code",
   "execution_count": null,
   "metadata": {},
   "outputs": [],
   "source": []
  },
  {
   "cell_type": "markdown",
   "metadata": {},
   "source": [
    "SY #358 受到祝福的平方"
   ]
  },
  {
   "cell_type": "code",
   "execution_count": null,
   "metadata": {},
   "outputs": [],
   "source": [
    "*A, = map(int, ' '.join(input()).split()) # same as list()\n",
    "def counting(n, visited):\n",
    "\n",
    "\n",
    "for i in range(len(A)):\n",
    "    visited = [False]*len(A)\n",
    "    "
   ]
  }
 ],
 "metadata": {
  "kernelspec": {
   "display_name": "Python 3",
   "language": "python",
   "name": "python3"
  },
  "language_info": {
   "codemirror_mode": {
    "name": "ipython",
    "version": 3
   },
   "file_extension": ".py",
   "mimetype": "text/x-python",
   "name": "python",
   "nbconvert_exporter": "python",
   "pygments_lexer": "ipython3",
   "version": "3.12.4"
  }
 },
 "nbformat": 4,
 "nbformat_minor": 2
}
