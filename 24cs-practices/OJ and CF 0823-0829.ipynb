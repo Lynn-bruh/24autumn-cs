{
 "cells": [
  {
   "cell_type": "markdown",
   "metadata": {},
   "source": [
    "OJ #02750 鸡兔同笼"
   ]
  },
  {
   "cell_type": "code",
   "execution_count": null,
   "metadata": {},
   "outputs": [],
   "source": [
    "def animal(a): \n",
    "    \"\"\"\n",
    "    Input: a, a positive int, total amounts of leg in a cage, a<32768\n",
    "    Returns minimum and maximum amounts of animal in a cage\n",
    "    \"\"\"\n",
    "    if a%2 == 0 and a%4 == 0: \n",
    "        min = int(a/4)\n",
    "        max = int(a/2)\n",
    "        print(min, max)\n",
    "        return (min, max)\n",
    "    elif a%2 == 0 and a%4 != 0: \n",
    "        b = a//4\n",
    "        min = int (b + (a-4*b)/2)\n",
    "        max = int(a/2)\n",
    "        print (min, max)\n",
    "        return (min, max)\n",
    "    else:\n",
    "        return 'enter even number'"
   ]
  },
  {
   "cell_type": "code",
   "execution_count": null,
   "metadata": {},
   "outputs": [],
   "source": [
    "a = int(input())\n",
    "if a%2 == 0 and a%4 == 0:\n",
    "    print (int(a/4), int(a/2))\n",
    "elif a%2 == 0 and a%4 != 0:\n",
    "    print (int((a//4)+1), int(a/2))\n",
    "else: \n",
    "    print (0, 0)"
   ]
  },
  {
   "cell_type": "markdown",
   "metadata": {},
   "source": [
    "OJ #02733 判断闰年"
   ]
  },
  {
   "cell_type": "code",
   "execution_count": null,
   "metadata": {},
   "outputs": [],
   "source": [
    "#a must be positive integer number between 0 to 3000\n",
    "a = int(input())\n",
    "if a%4 == 0:\n",
    "    if (a%100 == 0 and a%400 !=0) or a%3200 == 0:\n",
    "        print (\"N\")\n",
    "    else:\n",
    "        print (\"Y\")\n",
    "else: \n",
    "    print (\"N\")"
   ]
  },
  {
   "cell_type": "code",
   "execution_count": null,
   "metadata": {},
   "outputs": [],
   "source": [
    "def compress_string(INP):\n",
    "    inp = str(INP.lower()) #turning string into lower case\n",
    "    count_list = [] #creat a list\n",
    "    count = 1\n",
    "    for idx in range(len(inp)):\n",
    "        if inp[idx] == inp[idx - 1]: #compare with previous character, if same, increment the count\n",
    "            count += 1\n",
    "        else:\n",
    "            count_list.append([inp[idx - 1], count]) #meeting a new character, added a new result into the list and reset the count\n",
    "            count = 1\n",
    "    count_list.append([inp[-1], count]) #the list only show the (character, counts) group after meeting the next new character (make sure it's all end), without this line, the counts saved, but not \"returning\"\n",
    "    out = ''.join(f'({inp},{count})' for inp, count in count_list) #turning dict into string, the format question want\n",
    "    # String Formatting (f''): The result is formatted as a string using an f-string inside a comprehension.\n",
    "    # Join: The .join function combines each formatted tuple into a single string without spaces or quotes.\n",
    "    print (out)\n",
    "    return out\n",
    "    \n",
    "compress_string(\"aAABBbBCCCaaaaa\")"
   ]
  },
  {
   "cell_type": "code",
   "execution_count": null,
   "metadata": {},
   "outputs": [],
   "source": [
    "#without def version\n",
    "INP = str(input())\n",
    "inp = INP.lower()\n",
    "count_list = [] \n",
    "count = 1\n",
    "for idx in range(1, len(inp)): #cannot start from index 0 since inp compare with previous inp, if inp[0]&inp[-1] are the same will miscount\n",
    "    if inp[idx] == inp[idx - 1]:\n",
    "        count += 1\n",
    "    else:\n",
    "        count_list.append([inp[idx - 1], count])\n",
    "        count = 1\n",
    "count_list.append([inp[-1], count]) \n",
    "out = ''.join(f'({inp},{count})' for inp, count in count_list)\n",
    "print (out)"
   ]
  },
  {
   "cell_type": "markdown",
   "metadata": {},
   "source": [
    "Why the final append is crucial?\n",
    "When the loop reaches the last character, it checks if it matches the previous character. Since it does, it increments the count. However, after this, the loop ends because there are no more characters to check. At this point, the final group (character, counts) hasn't been added to the result list yet.The final append result.append((input_str[-1], count)) is used to handle this scenario. It ensures that after the loop finishes, the last character group (which was being counted but not yet added to the result) is included.\n",
    "Without this line, the last group of characters would not be appended to the result, so the final output would miss this group."
   ]
  },
  {
   "cell_type": "markdown",
   "metadata": {},
   "source": [
    "Code Forces don't want any \"string\" input"
   ]
  },
  {
   "cell_type": "markdown",
   "metadata": {},
   "source": [
    "CF #50A Domino piling"
   ]
  },
  {
   "cell_type": "code",
   "execution_count": null,
   "metadata": {},
   "outputs": [],
   "source": [
    "# MN = ''.join(M_N.split()) #using .split to seperate all the strings, without caring how many space between them\n",
    "# M = int(MN[0])\n",
    "# N = int(MN[1])\n",
    "# only work when M, N are single digit\n",
    "M, N = map (int, input().split()) #parentheses after M_N is no need as it is not a function but a string (otherwise show a runtime error)\n",
    "print ((M*N)//2)\n",
    "\n",
    "#TOO complicated?\n",
    "# if M % 2 == 0 or N % 2 == 0:\n",
    "#     print ((M * N) // 2)\n",
    "# elif M % 2 != 0 and N % 2 != 0: \n",
    "#     print ((M * N) // 2)\n",
    "# elif M == 0 or N == 0:\n",
    "#     print (0)"
   ]
  },
  {
   "cell_type": "markdown",
   "metadata": {},
   "source": [
    "CF #200B. Drinks"
   ]
  },
  {
   "cell_type": "code",
   "execution_count": null,
   "metadata": {},
   "outputs": [],
   "source": [
    "n = int(input()) #default input is string, dun forget to transfer to integer to do mathematics\n",
    "total = sum (map(int, input().split()))\n",
    "print (total/n)"
   ]
  },
  {
   "cell_type": "markdown",
   "metadata": {},
   "source": [
    "CF #4A. Watermelon"
   ]
  },
  {
   "cell_type": "code",
   "execution_count": null,
   "metadata": {},
   "outputs": [],
   "source": [
    "w = int(input())\n",
    "if w%2 == 0 and w>3:\n",
    "    print (\"YES\")\n",
    "else:\n",
    "    print (\"NO\")\n",
    "\n",
    "# short code 1\n",
    "# i=int(input()) \n",
    "# print(['YES','NO'][i%2 or i<3]) #dun understand too\n",
    "# short code 2\n",
    "# print(\"YNEOS\"[2**int(input())%24<9::2]) ;hrm hrm, dun understand oh \n"
   ]
  },
  {
   "cell_type": "markdown",
   "metadata": {},
   "source": [
    "CF #1A. Theatre Square"
   ]
  },
  {
   "cell_type": "code",
   "execution_count": null,
   "metadata": {},
   "outputs": [],
   "source": [
    "n, m, a = map (int, input().split())\n",
    "x = m//a\n",
    "if m%a != 0: #can use \"import math\" too, to ceil x & y seperately\n",
    "    x += 1\n",
    "y = n//a\n",
    "if n%a != 0:\n",
    "    y += 1\n",
    "print (x*y)\n",
    "\n",
    "#可以利用负数取整的特点来计算，最终也是--得+\n",
    "# n,m,a=map(int,input().split())\n",
    "# print(-n//a*(-m//a))"
   ]
  },
  {
   "cell_type": "markdown",
   "metadata": {},
   "source": [
    "CF #158A. Next Round"
   ]
  },
  {
   "cell_type": "code",
   "execution_count": 19,
   "metadata": {},
   "outputs": [
    {
     "name": "stdout",
     "output_type": "stream",
     "text": [
      "3\n"
     ]
    }
   ],
   "source": [
    "#implementation way\n",
    "n, k = map(int, input().split())\n",
    "score = list(map(int, input().split()))\n",
    "# OR score = [int(x) for x in input().split()]\n",
    "i = 0\n",
    "advance = 0\n",
    "while i < n and score[i] >= score[k-1]: #i<n need to be infront of another criteria, as it's the first need to be checked (otherwise i=n appears index error)\n",
    "    if score[i] != 0: #if clause inside loops otherwise won't be checked everytime\n",
    "        advance +=1\n",
    "        i += 1\n",
    "    else: #break is needed otherwise will be stucked inside this loop and can't escape\n",
    "        break\n",
    "print(advance)\n",
    "\n",
    "# short code, dun understand too\n",
    "# i=lambda:map(int,input().split())\n",
    "# n,k=i()\n",
    "# a=list(i())\n",
    "# print(sum([x>=(a[k-1] or 1) for x in a]))\n"
   ]
  },
  {
   "cell_type": "markdown",
   "metadata": {},
   "source": [
    "CF #112A. Petya and Strings"
   ]
  },
  {
   "cell_type": "code",
   "execution_count": 29,
   "metadata": {},
   "outputs": [
    {
     "name": "stdout",
     "output_type": "stream",
     "text": [
      "0\n"
     ]
    }
   ],
   "source": [
    "str1 = ' '.join(input().lower()).split() #lower() must flw behind input as it's function only for string but not for list\n",
    "str2 = ' '.join(input().lower()).split() #after adding spaces, the split function will automatically return a list\n",
    "comp = ['a', 'b', 'c', 'd', 'e', 'f', 'g', 'h', 'i', 'j', 'k', 'l', 'm', 'n', 'o', 'p', 'q', 'r', 's', 't', 'u', 'v', 'w', 'x', 'y', 'z']\n",
    "\n",
    "while str1 == str2:\n",
    "      print(0)\n",
    "      break\n",
    "else:\n",
    "    for i in range(len(str1)):\n",
    "        if comp.index(str1[i]) > comp.index(str2[i]):\n",
    "            print(1)\n",
    "            break\n",
    "        elif comp.index(str1[i]) < comp.index(str2[i]):\n",
    "            print(-1)\n",
    "            break\n",
    "\n",
    "#use ord() to compare with dictionary order:\n",
    "# s1 = input().lower()\n",
    "# s2 = input().lower()\n",
    "# num = 0\n",
    "# for i in range(len(s1)):\n",
    "# \tif ord(s1[i]) < ord(s2[i]):\n",
    "# \t\tprint('-1')\n",
    "# \t\tbreak\n",
    "# \telif ord(s1[i]) > ord(s2[i]):\n",
    "# \t\tprint('1')\n",
    "# \t\tbreak\n",
    "# \telse:\n",
    "# \t\tnum += 1\n",
    "# if num == len(s1):\n",
    "# \tprint('0')\n",
    "\n",
    "# using string to compare, strings can compare each of them by themselves, no need to transcript:\n",
    "# line1 = input()\n",
    "# line2 = input() \n",
    "# if line1.lower() > line2.lower(): \n",
    "#     print(1) \n",
    "# elif line1.lower() < line2.lower(): \n",
    "#     print(-1) \n",
    "# else: \n",
    "#     print(0)"
   ]
  },
  {
   "cell_type": "markdown",
   "metadata": {},
   "source": [
    "CF #236A. Boy or Girl"
   ]
  },
  {
   "cell_type": "code",
   "execution_count": null,
   "metadata": {},
   "outputs": [],
   "source": [
    "name = input()\n",
    "uniq = []\n",
    "for char in name:\n",
    "    if char not in uniq:\n",
    "        uniq.append(char)\n",
    "if len(uniq)%2 == 0:\n",
    "    print(\"CHAT WITH HER!\")\n",
    "else:\n",
    "    print(\"IGNORE HIM!\")\n",
    "\n",
    "# use 'update' method:\n",
    "# s = set() # set doesn't allow duplicated elements\n",
    "# s.update(input()) # used to add elements from other iterable (i.e. tuple, set, or dic) inside parentheses, the characters of strings are also iterable\n",
    "# If there are same elements, the rest will be ignored as it only store unique items; if using dic as iterable, only keys are added\n",
    "# s.update(input()) is equivalen with s != input() [s需要先存在！]\n",
    "# if len(s)%2 == 1:\n",
    "#     print('IGNORE HIM!')\n",
    "# else:\n",
    "#     print('CHAT WITH HER!')"
   ]
  },
  {
   "cell_type": "markdown",
   "metadata": {},
   "source": [
    "'update' Method is used to return the union of a set and the set of elements from one or more iterable like string, list, set. It is very similar to union() method, with difference is that where union() method create and return a new set, containing all the elements ( distinct ) present in all the iterables, update() method updates the set on which this method is called with all the distinct elements present in all the iterables."
   ]
  },
  {
   "cell_type": "markdown",
   "metadata": {},
   "source": [
    "CF #231A. Team"
   ]
  },
  {
   "cell_type": "code",
   "execution_count": null,
   "metadata": {},
   "outputs": [],
   "source": [
    "n = int(input())\n",
    "num = 0\n",
    "for i in range(n):\n",
    "    a = [int(x) for x in input().split()] #the first column for a, second for b and third for c, set as list so can do addition with row index\n",
    "    if sum(a) > 1: #count for i-th row immediately (with the input), simpler code\n",
    "        num += 1\n",
    "print(num)"
   ]
  },
  {
   "cell_type": "markdown",
   "metadata": {},
   "source": [
    "CF #266A. Stones on the Table"
   ]
  },
  {
   "cell_type": "code",
   "execution_count": null,
   "metadata": {},
   "outputs": [],
   "source": [
    "n = int(input())\n",
    "s = input()\n",
    "take_out = 0\n",
    "for i in range(1, len(s)):\n",
    "    if s[i] == s[i-1]:\n",
    "        take_out += 1\n",
    "print (take_out)"
   ]
  },
  {
   "cell_type": "markdown",
   "metadata": {},
   "source": [
    "CF #263A. Beautiful Matrix"
   ]
  },
  {
   "cell_type": "code",
   "execution_count": 20,
   "metadata": {},
   "outputs": [],
   "source": [
    "#Way 1: iterate until find the row got 1\n",
    "for i in range(5):\n",
    "    s = input().split()\n",
    "    if \"1\" in s:\n",
    "        print(abs(i-2)+abs(s.index(\"1\")-2)) #using mathematics rules, bcs 1 need to place on index 2, 2(in python, index start from 0)\n",
    "        break\n",
    "\n",
    "#Way 2: similar to the way I am thinking\n",
    "matrix = [[int(x) for x in input().split()] for i in range(5)]\n",
    "\n",
    "for i in range(5):\n",
    "    if 1 in matrix[i]:\n",
    "        j = matrix[i].index(1)\n",
    "        print(abs(i-2)+abs(j-2)) #so it need to move (row-2) (the distance from row_i to row 3) to stay in row 3 (if in row 3, 2-2=0)\n",
    "        break\n",
    "\n",
    "#Way 3: similar to the procedure above, just the implement different\n",
    "for i in range(5):\n",
    "    lis = list(map(int,input().split()))\n",
    "    if 1 in lis:\n",
    "        r = i\n",
    "        break\n",
    "for j in range(5):\n",
    "    if lis[j]==1:\n",
    "        c = j \n",
    "print(abs(c-2)+abs(r-2)) #after that, the step of 1 move to the middle column also will be (col-2) as it's a square matrix, so is the answer\n",
    "# as above, this way will only work when it's a square matrix and the biggest index is even number (otherwise there are no \"center\")\n",
    "# a special name for the steps needed write as a matrix (by me): blossom matrix\n",
    "\n",
    "#Way 4: analize by different situation (when 1 in first row, second row...)\n",
    "a = input().split()\n",
    "b = input().split()\n",
    "c = input().split()\n",
    "d = input().split()\n",
    "e = input().split()\n",
    "if '1' in a:\n",
    "    print(abs(a.index('1')-2) +2) #steps of column needed (distance between them) and steps of row needed (+2)\n",
    "if '1' in b:\n",
    "    print(abs(b.index('1')-2) +1)\n",
    "if '1' in c:\n",
    "    print(abs(c.index('1')-2))\n",
    "if '1' in d:\n",
    "    print(abs(d.index('1')-2) +1)\n",
    "if '1' in e:\n",
    "    print(abs(e.index('1')-2) +2)"
   ]
  },
  {
   "cell_type": "markdown",
   "metadata": {},
   "source": [
    "CF #996A. Hit the Lottery"
   ]
  },
  {
   "cell_type": "code",
   "execution_count": null,
   "metadata": {},
   "outputs": [],
   "source": [
    "n = int(input())\n",
    "bills = 0\n",
    "while n != 0:\n",
    "    if n // 100 != 0:\n",
    "        bills += (n//100)\n",
    "        n = n % 100\n",
    "    elif n // 20 != 0:\n",
    "        bills += (n//20)\n",
    "        n = n % 20\n",
    "    elif n // 10 != 0:\n",
    "        bills += (n//10)\n",
    "        n = n % 10\n",
    "    elif n // 5 != 0:\n",
    "        bills += (n//5)\n",
    "        n = n % 5\n",
    "    else:\n",
    "        bills += n\n",
    "        n = 0\n",
    "else:\n",
    "    print (bills)\n",
    "\n",
    "# Easier code:\n",
    "n = int(input())\n",
    "denominations = [100, 20, 10, 5, 1]\n",
    "cnt = 0\n",
    "for i in denominations: #i replaced by value inside the list, start from 100\n",
    "    cnt += n // i\n",
    "    n %= i\n",
    "print(cnt)   "
   ]
  },
  {
   "cell_type": "markdown",
   "metadata": {},
   "source": [
    "CF #1328A. Divisibility Problem"
   ]
  },
  {
   "cell_type": "code",
   "execution_count": null,
   "metadata": {},
   "outputs": [],
   "source": [
    "#Way 1: Easily get time limit exceed (when meeting huge input, this algorithm got a n^2 growth)\n",
    "# for i in range(int(input())):\n",
    "#     a, b = map (int, input().split())\n",
    "#     num = 0\n",
    "#     while a % b != 0:\n",
    "#         a += 1\n",
    "#         num += 1\n",
    "#     else: \n",
    "#         print (num)\n",
    "\n",
    "for i in range(int(input())):\n",
    "    a, b = map(int, input().split())\n",
    "    res = a % b\n",
    "    if res == 0:\n",
    "        print (0)\n",
    "    else:\n",
    "        print (b - res) #need to increase a by (b-res) time (so it can be fully divided by b), thn only will get a % b == 0"
   ]
  }
 ],
 "metadata": {
  "kernelspec": {
   "display_name": "Python 3",
   "language": "python",
   "name": "python3"
  },
  "language_info": {
   "codemirror_mode": {
    "name": "ipython",
    "version": 3
   },
   "file_extension": ".py",
   "mimetype": "text/x-python",
   "name": "python",
   "nbconvert_exporter": "python",
   "pygments_lexer": "ipython3",
   "version": "3.12.4"
  }
 },
 "nbformat": 4,
 "nbformat_minor": 2
}
