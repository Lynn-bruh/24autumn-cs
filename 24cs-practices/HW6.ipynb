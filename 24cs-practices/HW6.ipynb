{
 "cells": [
  {
   "cell_type": "markdown",
   "metadata": {},
   "source": [
    "汉诺塔"
   ]
  },
  {
   "cell_type": "code",
   "execution_count": 5,
   "metadata": {},
   "outputs": [
    {
     "name": "stdout",
     "output_type": "stream",
     "text": [
      "7\n",
      "A->C\n",
      "A->B\n",
      "C->B\n",
      "A->C\n",
      "B->A\n",
      "B->C\n",
      "A->C\n"
     ]
    }
   ],
   "source": [
    "saving_data = []\n",
    "def hanoi(plate, previous_tower, current_tower, not_used):\n",
    "    if plate == 1:\n",
    "        saving_data.append([previous_tower, current_tower])        \n",
    "    else:\n",
    "        hanoi (plate-1, previous_tower, not_used, current_tower)\n",
    "        hanoi (1, previous_tower, current_tower, not_used)\n",
    "        hanoi (plate-1, not_used, current_tower, previous_tower)\n",
    "\n",
    "plate = int(input())\n",
    "hanoi(plate, \"A\", \"C\", \"B\")\n",
    "\n",
    "print(len(saving_data))\n",
    "for i in range(len(saving_data)):\n",
    "    pre = saving_data[i][0]\n",
    "    cur = saving_data[i][1]\n",
    "    print (\"{}->{}\".format(pre, cur))"
   ]
  },
  {
   "cell_type": "markdown",
   "metadata": {},
   "source": [
    "全排列I"
   ]
  },
  {
   "cell_type": "code",
   "execution_count": 31,
   "metadata": {},
   "outputs": [
    {
     "name": "stdout",
     "output_type": "stream",
     "text": [
      "1 2\n",
      "1 2\n"
     ]
    }
   ],
   "source": [
    "all_permutation = []\n",
    "def permutation(current_permutation, start, end):\n",
    "    if start == end:\n",
    "        all_permutation.append(current_permutation[:])\n",
    "    else:\n",
    "        for i in range(start, end+1):\n",
    "            current_permutation[start], current_permutation[i] = current_permutation[i], current_permutation[start]\n",
    "            permutation(current_permutation, start+1, end)\n",
    "            current_permutation[i], current_permutation[start] = current_permutation[start], current_permutation[i]\n",
    "\n",
    "n = int(input())\n",
    "current_permutation = [i for i in range(1, n+1)]\n",
    "permutation(current_permutation, 0, n-1)\n",
    "\n",
    "all_permutation.sort()\n",
    "for perm in all_permutation:\n",
    "    print(*perm)"
   ]
  },
  {
   "cell_type": "code",
   "execution_count": 20,
   "metadata": {},
   "outputs": [
    {
     "name": "stdout",
     "output_type": "stream",
     "text": [
      "(1, 2, 3) (1, 3, 2) (2, 1, 3) (2, 3, 1) (3, 1, 2) (3, 2, 1)\n"
     ]
    }
   ],
   "source": [
    "from itertools import permutations\n",
    "\n",
    "get_per = []\n",
    "get_per.append(list(permutations(range(1, int(input())+1))))\n",
    "\n",
    "for i in range(len(get_per)):\n",
    "    print(*get_per[i])"
   ]
  },
  {
   "cell_type": "markdown",
   "metadata": {},
   "source": [
    "OJ #2945 拦截导弹"
   ]
  },
  {
   "cell_type": "code",
   "execution_count": null,
   "metadata": {},
   "outputs": [
    {
     "name": "stdout",
     "output_type": "stream",
     "text": [
      "4\n"
     ]
    }
   ],
   "source": [
    "k = int(input())\n",
    "height = list(map(int, input().split()))\n",
    "\n",
    "# Initialize a dp array where each element dp[i] is the max number of bombs stopped starting from index i\n",
    "dp = [1] * k\n",
    "\n",
    "# Iterate over each bomb starting from the second last to the first one\n",
    "for i in range(k - 2, -1, -1):\n",
    "    for j in range(i + 1, k):\n",
    "        if height[j] <= height[i]:\n",
    "            dp[i] = max(dp[i], dp[j] + 1)\n",
    "\n",
    "# The result is the maximum value in dp, which represents the maximum number of bombs we can stop\n",
    "max_stopped_bombs = max(dp)\n",
    "print(max_stopped_bombs)\n"
   ]
  },
  {
   "cell_type": "markdown",
   "metadata": {},
   "source": [
    "OJ #23421 小偷背包"
   ]
  },
  {
   "cell_type": "code",
   "execution_count": null,
   "metadata": {},
   "outputs": [
    {
     "ename": "IndexError",
     "evalue": "list index out of range",
     "output_type": "error",
     "traceback": [
      "\u001b[1;31m---------------------------------------------------------------------------\u001b[0m",
      "\u001b[1;31mIndexError\u001b[0m                                Traceback (most recent call last)",
      "Cell \u001b[1;32mIn[31], line 14\u001b[0m\n\u001b[0;32m     12\u001b[0m \u001b[38;5;28;01mfor\u001b[39;00m j \u001b[38;5;129;01min\u001b[39;00m \u001b[38;5;28mrange\u001b[39m(\u001b[38;5;241m1\u001b[39m, B\u001b[38;5;241m+\u001b[39m\u001b[38;5;241m1\u001b[39m):\n\u001b[0;32m     13\u001b[0m     \u001b[38;5;28;01mif\u001b[39;00m weight[i] \u001b[38;5;241m<\u001b[39m\u001b[38;5;241m=\u001b[39m j:\n\u001b[1;32m---> 14\u001b[0m         bag[i][j] \u001b[38;5;241m=\u001b[39m \u001b[38;5;28mmax\u001b[39m(\u001b[38;5;28;43mobject\u001b[39;49m\u001b[43m[\u001b[49m\u001b[43mi\u001b[49m\u001b[43m]\u001b[49m[\u001b[38;5;241m0\u001b[39m]\u001b[38;5;241m+\u001b[39mbag[i\u001b[38;5;241m-\u001b[39m\u001b[38;5;241m1\u001b[39m][j\u001b[38;5;241m-\u001b[39m\u001b[38;5;28mobject\u001b[39m[i][\u001b[38;5;241m1\u001b[39m]], bag[i\u001b[38;5;241m-\u001b[39m\u001b[38;5;241m1\u001b[39m][j])\n\u001b[0;32m     15\u001b[0m     \u001b[38;5;28;01melse\u001b[39;00m:\n\u001b[0;32m     16\u001b[0m         bag[i][j] \u001b[38;5;241m=\u001b[39m bag[i\u001b[38;5;241m-\u001b[39m\u001b[38;5;241m1\u001b[39m][j]\n",
      "\u001b[1;31mIndexError\u001b[0m: list index out of range"
     ]
    }
   ],
   "source": [
    "N, B = map(int, input().split())\n",
    "price = [0] + list(map(int, input().split()))\n",
    "weight = [0] + list(map(int, input().split()))\n",
    "\n",
    "bag=[[0]*(B+1) for _ in range(N+1)]\n",
    "for i in range(1, N+1):\n",
    "    for j in range(1,B+1):\n",
    "        if weight[i]<=j:\n",
    "            bag[i][j]=max(price[i]+bag[i-1][j-weight[i]], bag[i-1][j])\n",
    "        else:\n",
    "            bag[i][j]=bag[i-1][j]\n",
    "            \n",
    "print(bag[-1][-1])"
   ]
  },
  {
   "cell_type": "markdown",
   "metadata": {},
   "source": [
    "OJ #2754 八皇后"
   ]
  },
  {
   "cell_type": "code",
   "execution_count": null,
   "metadata": {},
   "outputs": [],
   "source": []
  },
  {
   "cell_type": "markdown",
   "metadata": {},
   "source": [
    "CF #189A. Cut Ribbon"
   ]
  },
  {
   "cell_type": "code",
   "execution_count": null,
   "metadata": {},
   "outputs": [],
   "source": []
  }
 ],
 "metadata": {
  "kernelspec": {
   "display_name": "Python 3",
   "language": "python",
   "name": "python3"
  },
  "language_info": {
   "codemirror_mode": {
    "name": "ipython",
    "version": 3
   },
   "file_extension": ".py",
   "mimetype": "text/x-python",
   "name": "python",
   "nbconvert_exporter": "python",
   "pygments_lexer": "ipython3",
   "version": "3.12.4"
  }
 },
 "nbformat": 4,
 "nbformat_minor": 2
}
