{
 "cells": [
  {
   "cell_type": "markdown",
   "metadata": {},
   "source": [
    "E07618"
   ]
  },
  {
   "cell_type": "code",
   "execution_count": 4,
   "metadata": {},
   "outputs": [
    {
     "name": "stdout",
     "output_type": "stream",
     "text": [
      "021033\n",
      "010158\n",
      "021075\n",
      "004003\n",
      "102012\n"
     ]
    }
   ],
   "source": [
    "num_pat = int(input())\n",
    "patients_old = []\n",
    "patients_young = []\n",
    "for _ in range(num_pat):\n",
    "    id, age = map(str, input().split())\n",
    "    if int(age) >= 60:\n",
    "        patients_old.append([id, int(age)])\n",
    "    else:\n",
    "        patients_young.append([id, int(age)])\n",
    "patients_old.sort(key = lambda x: x[1], reverse = True)\n",
    "\n",
    "if patients_old:\n",
    "    for i in range(len(patients_old)):\n",
    "        print(patients_old[i][0])\n",
    "if patients_young:\n",
    "    for i in range(len(patients_young)):\n",
    "        print(patients_young[i][0])"
   ]
  },
  {
   "cell_type": "markdown",
   "metadata": {},
   "source": [
    "E23555"
   ]
  },
  {
   "cell_type": "code",
   "execution_count": null,
   "metadata": {},
   "outputs": [
    {
     "name": "stdout",
     "output_type": "stream",
     "text": [
      "0 0 2\n",
      "0 1 3\n",
      "1 0 4\n",
      "1 1 5\n"
     ]
    }
   ],
   "source": [
    "n, m1, m2 = map(int, input().split())\n",
    "matrix1 = []\n",
    "matrix2 = []\n",
    "for _ in range(m1):\n",
    "    a, b, c = map(int, input().split())\n",
    "    matrix1.append([a, b, c])\n",
    "for _ in range(m2):\n",
    "    a, b, c = map(int, input().split())\n",
    "    matrix2.append([a, b, c])\n",
    "\n",
    "matrix3 = [[0]*n for _ in range(n)]\n",
    "for i in range(m1):\n",
    "    for j in range(m2):\n",
    "        if matrix1[i][1] == matrix2[j][0]:\n",
    "            matrix3[matrix1[i][0]][matrix2[j][1]] += matrix1[i][2] * matrix2[j][2]\n",
    "\n",
    "for i in range(n):\n",
    "    for j in range(n):\n",
    "        if matrix3[i][j] != 0:\n",
    "            print(i, j, matrix3[i][j])\n"
   ]
  },
  {
   "cell_type": "markdown",
   "metadata": {},
   "source": [
    "M18182"
   ]
  },
  {
   "cell_type": "code",
   "execution_count": 77,
   "metadata": {},
   "outputs": [
    {
     "name": "stdout",
     "output_type": "stream",
     "text": [
      "alive\n",
      "1\n"
     ]
    }
   ],
   "source": [
    "nCases = int(input())\n",
    "for _ in range(nCases):\n",
    "    n, m, b = map(int, input().split())\n",
    "    skill = []\n",
    "    for _ in range(n):\n",
    "        ti, xi = map(int, input().split())\n",
    "        skill.append([ti, xi])\n",
    "    skill.sort(key = lambda x: x[0]) # sort according to time\n",
    "\n",
    "    dietime = 1 # too slow to iterate one by one\n",
    "    i = 0\n",
    "    while i < len(skill):\n",
    "        if b <= 0:\n",
    "            print(dietime)\n",
    "            break\n",
    "\n",
    "        if skill[i][0] > dietime:\n",
    "            dietime += 1\n",
    "        else:\n",
    "            b -= skill[i][1]\n",
    "            i += 1\n",
    "    else:\n",
    "        if b == 0:\n",
    "            print(dietime)\n",
    "        else:\n",
    "            print(\"alive\")\n"
   ]
  },
  {
   "cell_type": "code",
   "execution_count": null,
   "metadata": {},
   "outputs": [],
   "source": [
    "nCases = int(input())\n",
    "for _ in range(nCases):\n",
    "    n, m, b = map(int, input().split())\n",
    "    skill = []\n",
    "    for _ in range(n):\n",
    "        ti, xi = map(int, input().split())\n",
    "        skill.append([ti, xi])\n",
    "    skill.sort(key = lambda x: x[0]) # sort according to time\n",
    "    # can give more than one skill at a same moment\n",
    "    # a lot of skill can used but choosing the skiil that can get the maximum blood\n",
    "    # some skiils might used in the time after current_time\n"
   ]
  },
  {
   "cell_type": "markdown",
   "metadata": {},
   "source": [
    "M28780 # Wrong"
   ]
  },
  {
   "cell_type": "code",
   "execution_count": null,
   "metadata": {},
   "outputs": [
    {
     "name": "stdout",
     "output_type": "stream",
     "text": [
      "-1\n"
     ]
    }
   ],
   "source": [
    "n, m = map(int, input().split())\n",
    "coins = input().split()\n",
    "for i in range(n):\n",
    "    coins[i] = int(coins[i])\n",
    "coins.reverse()\n",
    "\n",
    "need = 0\n",
    "for i in range(n):\n",
    "    if m <= 0:\n",
    "        break\n",
    "\n",
    "    if coins[i] <= m:\n",
    "        need += m // coins[i]\n",
    "        m %= coins[i]\n",
    "\n",
    "if m == 0:\n",
    "    print(need)\n",
    "else:\n",
    "    print(-1)\n"
   ]
  },
  {
   "cell_type": "markdown",
   "metadata": {},
   "source": [
    "T12757"
   ]
  },
  {
   "cell_type": "code",
   "execution_count": null,
   "metadata": {},
   "outputs": [
    {
     "name": "stdout",
     "output_type": "stream",
     "text": [
      "-3005\n"
     ]
    }
   ],
   "source": [
    "eng_to_num = {\n",
    "    'negative': -1, 'zero': 0, 'one': 1, 'two': 2, 'three': 3, 'four': 4, 'five': 5, 'six': 6, 'seven': 7, 'eight': 8, 'nine': 9, \n",
    "    'ten': 10, 'eleven': 11, 'twelve': 12, 'thirteen': 13, 'fourteen': 14, 'fifteen': 15, 'sixteen': 16, 'seventeen': 17, 'eighteen': 18, \n",
    "    'nineteen': 19, \"twenty\": 20, 'thirty': 30, 'forty': 40, 'fifty': 50, 'sixty': 60, 'seventy': 70, 'eighty': 80, 'ninety': 90, \n",
    "    'hundred': 100, \"thousand\": 1000, 'million': 1000000\n",
    "    }\n",
    "\n",
    "def transfer_eng_to_num(give_a_list):\n",
    "    if not give_a_list:\n",
    "        return 0\n",
    "    \n",
    "    total = 0 # for value > 1000\n",
    "    current = 0 # for value < 1000\n",
    "    \n",
    "    for word in give_a_list:\n",
    "        value = eng_to_num[word]\n",
    "        if value == 100: \n",
    "            current *= value\n",
    "        elif value == 1000 or value == 1000000:\n",
    "            total += current * value \n",
    "            current = 0 # reset\n",
    "        else:\n",
    "            current += value\n",
    "    \n",
    "    return total + current\n",
    "\n",
    "eng = input().split()\n",
    "is_negative = False\n",
    "if eng[0] == 'negative':\n",
    "    is_negative = True\n",
    "    eng = eng[1:]  # Remove negative from the list for processing\n",
    "\n",
    "millions = []\n",
    "thousands = []\n",
    "hundreds = []\n",
    "left = []\n",
    "\n",
    "temp = 0\n",
    "# Segment into millions, thousands, hundreds, and the rest\n",
    "for i in range(len(eng)):\n",
    "    if eng[i] == 'million':\n",
    "        millions = eng[0:i+1]\n",
    "        temp = i + 1\n",
    "        break\n",
    "for i in range(temp, len(eng)):\n",
    "    if eng[i] == 'thousand':\n",
    "        thousands = eng[temp:i+1]\n",
    "        temp = i + 1\n",
    "        break\n",
    "for i in range(temp, len(eng)):\n",
    "    if eng[i] == 'hundred':\n",
    "        hundreds = eng[temp:i+1]\n",
    "        temp = i + 1\n",
    "        break\n",
    "left = eng[temp:]\n",
    "\n",
    "numer = transfer_eng_to_num(millions) + transfer_eng_to_num(thousands) + transfer_eng_to_num(hundreds) + transfer_eng_to_num(left)\n",
    "if is_negative:\n",
    "    numer = -numer\n",
    "print(numer)"
   ]
  },
  {
   "cell_type": "markdown",
   "metadata": {},
   "source": [
    "T16528"
   ]
  },
  {
   "cell_type": "code",
   "execution_count": null,
   "metadata": {},
   "outputs": [
    {
     "name": "stdout",
     "output_type": "stream",
     "text": [
      "3\n"
     ]
    }
   ],
   "source": [
    "event = int(input())\n",
    "events = []\n",
    "for _ in range(event):\n",
    "    start, over = map(int, input().split())\n",
    "    if over <= 60:\n",
    "        events.append([start, over])\n",
    "\n",
    "events.sort(key = lambda x: x[1]) # sort depending on the over time, over earlier, participate more\n",
    "last_end = -1 # the minimum is 0, so set a primary -1\n",
    "event_engage = 0\n",
    "\n",
    "for start, over in events:\n",
    "    if start > last_end: # last one finished, so can participate next\n",
    "        event_engage += 1\n",
    "        last_end = over\n",
    "\n",
    "print(event_engage)"
   ]
  },
  {
   "cell_type": "code",
   "execution_count": null,
   "metadata": {},
   "outputs": [],
   "source": [
    "# try DP by GPT (wrong, 算了, give up)\n",
    "eve = int(input())\n",
    "events = []\n",
    "for _ in range(eve):\n",
    "    start, end = map(int, input().split())\n",
    "    if end <= 60:\n",
    "        events.append([start, end])\n",
    "events.sort(key = lambda x: x[1])\n",
    "\n",
    "# dp[i] represents the maximum number of events we can attend from day 0 to day i\n",
    "dp = [0] * 61  # Because we have days from 0 to 60\n",
    "\n",
    "# Iterate over all events and fill the dp array\n",
    "for start, end in events:\n",
    "    # Find the previous time where we could have ended without conflict\n",
    "    # Use dp[end] = max(dp[end], dp[start - 1] + 1) if we pick the events\n",
    "    for i in range(60, end - 1, -1):\n",
    "        dp[i] = max(dp[i], dp[start - 1] + 1)\n",
    "\n",
    "print(dp[60])"
   ]
  }
 ],
 "metadata": {
  "kernelspec": {
   "display_name": "Python 3",
   "language": "python",
   "name": "python3"
  },
  "language_info": {
   "codemirror_mode": {
    "name": "ipython",
    "version": 3
   },
   "file_extension": ".py",
   "mimetype": "text/x-python",
   "name": "python",
   "nbconvert_exporter": "python",
   "pygments_lexer": "ipython3",
   "version": "3.12.4"
  }
 },
 "nbformat": 4,
 "nbformat_minor": 2
}
