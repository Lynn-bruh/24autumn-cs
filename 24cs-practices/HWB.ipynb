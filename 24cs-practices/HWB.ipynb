{
 "cells": [
  {
   "cell_type": "markdown",
   "metadata": {},
   "source": [
    "E22548"
   ]
  },
  {
   "cell_type": "code",
   "execution_count": null,
   "metadata": {},
   "outputs": [
    {
     "name": "stdout",
     "output_type": "stream",
     "text": [
      "5\n"
     ]
    }
   ],
   "source": [
    "# O(n^2)\n",
    "# a = list(map(int, input().split()))\n",
    "# max_increase = 0\n",
    "# for i in range(len(a)):\n",
    "#     for j in range(i+1, len(a)):\n",
    "#         if a[i] < a[j]:\n",
    "#             temp = a[j] - a[i]\n",
    "#             if temp > max_increase:\n",
    "#                 max_increase = temp\n",
    "\n",
    "# print(max_increase)\n",
    "\n",
    "# O(n)\n",
    "a = list(map(int, input().split()))\n",
    "max_increase = 0\n",
    "min_price = 10001 # the maximum ele is 10000\n",
    "for i in range(len(a)):\n",
    "    min_price = min(min_price, a[i])\n",
    "    max_increase = max(max_increase, a[i] - min_price)\n",
    "\n",
    "print(max_increase)\n"
   ]
  },
  {
   "cell_type": "markdown",
   "metadata": {},
   "source": [
    "M20744"
   ]
  },
  {
   "cell_type": "code",
   "execution_count": null,
   "metadata": {},
   "outputs": [
    {
     "name": "stdout",
     "output_type": "stream",
     "text": [
      "4\n"
     ]
    }
   ],
   "source": [
    "def list_to_buy(shopping: list):\n",
    "    not_putting_back = [0]*len(shopping)\n",
    "    putting_back = [0]*len(shopping)\n",
    "\n",
    "    not_putting_back[0], putting_back[0] = shopping[0], shopping[0] # at least need to buy one thing\n",
    "    for i in range(1, len(shopping)):\n",
    "        not_putting_back[i] = max(not_putting_back[i-1]+shopping[i], shopping[i]) # either add one more thing into bucket or choose the one which have larger value\n",
    "        putting_back[i] = max(not_putting_back[i-1], putting_back[i-1]+shopping[i]) # either put back the last or not (only one can be put back, if inherit the putting_back, shopping[i] must be added)\n",
    "    \n",
    "    max_of_not = max(not_putting_back)\n",
    "    max_of_yes = max(putting_back)\n",
    "    return max(max_of_not, max_of_yes)\n",
    "\n",
    "buying = list(map(int, input().split(sep = \",\")))\n",
    "print(list_to_buy(buying))\n"
   ]
  },
  {
   "cell_type": "markdown",
   "metadata": {},
   "source": [
    "M28701"
   ]
  },
  {
   "cell_type": "code",
   "execution_count": null,
   "metadata": {},
   "outputs": [
    {
     "data": {
      "text/plain": [
       "'ABC'"
      ]
     },
     "execution_count": 4,
     "metadata": {},
     "output_type": "execute_result"
    }
   ],
   "source": [
    "n, k = map(int, input().split())\n",
    "chicken = list(map(int, input().split()))\n",
    "chicken.sort()\n",
    "total_time = sum(chicken)\n",
    "max_time = total_time / k\n",
    "while True:\n",
    "    if chicken[-1] > max_time:\n",
    "        total_time -= chicken.pop()\n",
    "        k -= 1\n",
    "        max_time = total_time / k\n",
    "    else:\n",
    "        break\n",
    "\n",
    "print(f\"{max_time:.3f}\")"
   ]
  },
  {
   "cell_type": "markdown",
   "metadata": {},
   "source": [
    "T25561"
   ]
  },
  {
   "cell_type": "code",
   "execution_count": null,
   "metadata": {},
   "outputs": [],
   "source": [
    "n, m = map(int, input().split())\n",
    "buying = []\n",
    "for _ in range(n):\n",
    "    buying.append(input().split())\n",
    "store_coupon = []\n",
    "for _ in range(m):\n",
    "    store_coupon.append(input().split())\n",
    "\n",
    "def buy_item(buy, )"
   ]
  },
  {
   "cell_type": "markdown",
   "metadata": {},
   "source": [
    "T20741"
   ]
  },
  {
   "cell_type": "code",
   "execution_count": null,
   "metadata": {},
   "outputs": [],
   "source": [
    "from collections import deque\n",
    "\n",
    "def shortest_bridge(islands: list, visited: list, bridges: int):\n",
    "    directions = [(0, 1), (1, 0), (-1, 0), (0, -1)] # down, right, left, up\n",
    "\n",
    "    if visited:\n",
    "        return bridges\n",
    "    \n",
    "    if islands[i]"
   ]
  },
  {
   "cell_type": "markdown",
   "metadata": {},
   "source": [
    "T28776"
   ]
  },
  {
   "cell_type": "code",
   "execution_count": 18,
   "metadata": {},
   "outputs": [
    {
     "name": "stdout",
     "output_type": "stream",
     "text": [
      "3262236444\n"
     ]
    }
   ],
   "source": [
    "n = int(input())\n",
    "king = list(map(int, input().split()))\n",
    "courtiers = []\n",
    "for _ in range(n):\n",
    "    a, b = map(int, input().split())\n",
    "    courtiers.append([a, b])\n",
    "courtiers.sort(key = lambda x:(x[0]*x[1]))\n",
    "\n",
    "max_gold_not_divided = king[0]\n",
    "max_gold = max_gold_not_divided // courtiers[0][1]\n",
    "for i in range(1, n):\n",
    "    max_gold_not_divided *= courtiers[i-1][0]\n",
    "    max_gold = max(max_gold, max_gold_not_divided//courtiers[i][1])\n",
    "\n",
    "print(max_gold)"
   ]
  }
 ],
 "metadata": {
  "kernelspec": {
   "display_name": "Python 3",
   "language": "python",
   "name": "python3"
  },
  "language_info": {
   "codemirror_mode": {
    "name": "ipython",
    "version": 3
   },
   "file_extension": ".py",
   "mimetype": "text/x-python",
   "name": "python",
   "nbconvert_exporter": "python",
   "pygments_lexer": "ipython3",
   "version": "3.12.4"
  }
 },
 "nbformat": 4,
 "nbformat_minor": 2
}
