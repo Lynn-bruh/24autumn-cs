{
 "cells": [
  {
   "cell_type": "markdown",
   "metadata": {},
   "source": [
    "CF #230B T-primes"
   ]
  },
  {
   "cell_type": "code",
   "execution_count": 74,
   "metadata": {},
   "outputs": [
    {
     "name": "stdout",
     "output_type": "stream",
     "text": [
      "YES\n"
     ]
    }
   ],
   "source": [
    "#只能有1, sqrt(y), y三个因子\n",
    "import math\n",
    "def is_prime(i):\n",
    "    if i < 2:\n",
    "        return False\n",
    "    if i in (2, 3):\n",
    "        return True\n",
    "    if i % 2 == 0:\n",
    "        return False\n",
    "    sqrt = math.isqrt(i) + 2\n",
    "    primes = [True]*(sqrt)\n",
    "    primes[0] = primes[1] = False\n",
    "    \n",
    "    for j in range(3, sqrt, 2):\n",
    "        if not primes[j]:\n",
    "            continue\n",
    "        elif primes[j] and i % j == 0:\n",
    "            return False\n",
    "        elif primes[j] and i % j != 0:\n",
    "            for k in range(i, sqrt, j):\n",
    "                primes[k] = False \n",
    "    return True\n",
    "\n",
    "def get_count(y):\n",
    "    if y < 4:\n",
    "        return 0\n",
    "    \n",
    "    if y % 2 == 0:\n",
    "        return 3 if y < 5 else 0\n",
    "    \n",
    "    if is_prime(y):\n",
    "        return 0\n",
    "    \n",
    "    limit = math.isqrt(y)\n",
    "\n",
    "    if limit * limit == y:\n",
    "        if is_prime(limit):\n",
    "            return 3\n",
    "        else:\n",
    "            return 0\n",
    "    else:\n",
    "        return 0\n",
    "\n",
    "n = int(input())\n",
    "x = list(map(int, input().split()))\n",
    "for i in range(n):\n",
    "    y = x[i]\n",
    "    if get_count(y) == 3:\n",
    "        print(\"YES\")\n",
    "    else:\n",
    "        print(\"NO\")\n",
    "\n",
    "# 打好素数表，不要每次都去找"
   ]
  },
  {
   "cell_type": "code",
   "execution_count": 17,
   "metadata": {},
   "outputs": [
    {
     "name": "stdout",
     "output_type": "stream",
     "text": [
      "NO\n"
     ]
    }
   ],
   "source": [
    "import math\n",
    "def get_prime_number(y):\n",
    "    limit = math.floor(math.sqrt(y))\n",
    "    primes = [1]*(limit+1)\n",
    "    primes[0] = primes[1] = 0\n",
    "    counting_prime = 2 #y必然能被1和它自己divide\n",
    "    if y < 4:\n",
    "        return 0\n",
    "    \n",
    "    if y % 2 == 0: #如果y有偶数因子，必然可以被2整除\n",
    "        return 3 if y < 5 else 0\n",
    "    \n",
    "    # 从3开始判断因子，并且中间的偶数全部跳过（已知没有偶数因子）\n",
    "    for i in range(3, limit + 1, 2): # 如果y有其他因子，因子必然分布在sqrt(y)的两端，这一侧有另一侧才会有，这一侧没有另一侧也没有\n",
    "        if primes[i] == 0: # 跳过所有已检查过的因子\n",
    "            continue\n",
    "        \n",
    "        if counting_prime > 3: # 只要大于3必定No\n",
    "            break\n",
    "\n",
    "        if y % i == 0: # y有因子\n",
    "            counting_prime += 1\n",
    "            temp = y // i\n",
    "            if temp != i and y % temp == 0: #如果还能被整除，因子数量必然大于3\n",
    "                return 0\n",
    "        else:\n",
    "            for j in range(i, limit + 1, i): # 如果不是他的因子，则所有以此因子为因子的因子都不是\n",
    "                primes[j] = 0\n",
    "        \n",
    "    return 3 if counting_prime == 3 else 0\n",
    "\n",
    "n = int(input())\n",
    "x = list(map(int, input().split()))\n",
    "for i in range(n):\n",
    "    y = x[i]\n",
    "    if get_prime_number(y) == 3:\n",
    "        print(\"YES\")\n",
    "    else:\n",
    "        print(\"NO\")\n"
   ]
  },
  {
   "cell_type": "markdown",
   "metadata": {},
   "source": [
    "OJ #04110 Santa Clau's Gifts"
   ]
  },
  {
   "cell_type": "code",
   "execution_count": 103,
   "metadata": {},
   "outputs": [
    {
     "name": "stdout",
     "output_type": "stream",
     "text": [
      "[[591, 2], [412, 8], [266, 7], [100, 4]]\n",
      "1193.0\n"
     ]
    }
   ],
   "source": [
    "# 有坑，value有可能重复，dict不允许重复的key\n",
    "n, w = map(int, input().split())\n",
    "candy = []\n",
    "for _ in range(n):\n",
    "    value, weight = map(int, input().split())\n",
    "    candy.append([value, weight])\n",
    "candy = sorted(candy, key = lambda x: x[0], reverse = True)\n",
    "\n",
    "weighton = 0\n",
    "valueget = 0\n",
    "for i in range(n):\n",
    "    if weighton + candy[i][1] < w:\n",
    "        weighton += candy[i][1]\n",
    "        valueget += candy[i][0]\n",
    "    else:\n",
    "        ratio = (w - weighton)/candy[i][1]\n",
    "        valueget += candy[i][0]*ratio\n",
    "        break\n",
    "            \n",
    "print(\"%.1f\" % valueget)\n",
    "# or print(\"{.1f}\".format(number))\n",
    "# or print(f\"{number: .1f}\"), get number: xxx.x\n"
   ]
  },
  {
   "cell_type": "markdown",
   "metadata": {},
   "source": [
    "Assignment #4 CF#158B. Taxi"
   ]
  },
  {
   "cell_type": "code",
   "execution_count": 26,
   "metadata": {},
   "outputs": [
    {
     "name": "stdout",
     "output_type": "stream",
     "text": [
      "5\n"
     ]
    }
   ],
   "source": [
    "n = int(input())\n",
    "children = list(map(int, input().split()))\n",
    "taxi = children.count(4) + children.count(3) + (children.count(2)//2)\n",
    "if children.count(2) % 2 == 0:\n",
    "    left = children.count(1) - children.count(3)\n",
    "else:\n",
    "    taxi += 1\n",
    "    left = children.count(1) -children.count(3) - 2\n",
    "\n",
    "if left > 0:\n",
    "        taxi += left // 4\n",
    "        if left % 4 != 0:\n",
    "            taxi += 1\n",
    "\n",
    "print(taxi)"
   ]
  },
  {
   "cell_type": "markdown",
   "metadata": {},
   "source": [
    "CF 313B. Ilya and Queries"
   ]
  },
  {
   "cell_type": "code",
   "execution_count": null,
   "metadata": {},
   "outputs": [
    {
     "name": "stdout",
     "output_type": "stream",
     "text": [
      "[0, 1, 2, 3, 4, 5]\n",
      "1\n",
      "1\n",
      "5\n",
      "4\n"
     ]
    }
   ],
   "source": [
    "# not very understand the question, simply explain through answer\n",
    "s = input() # input only has \".\" and \"#\"\n",
    "calc = 0 # to calculate if s_i == s_{i+1}\n",
    "answer = [0] # to save the answer of calc and to calculate how much \"same\" in each query, the first one dun have comparison with the previous\n",
    "for i in range(1, len(s)): \n",
    "    if s[i] == s[i-1]: # according to question, if same, calc + 1, saving the data of s_i not s_{i+1}\n",
    "        calc += 1\n",
    "    answer.append(calc) # either same or not same, append the calculation into answer\n",
    "\n",
    "m = int(input()) # how many queries\n",
    "for _ in range(m):\n",
    "    l, r = map(int, input().split()) # interval\n",
    "    print(answer[r-1] - answer[l-1]) # only need l_i ≤ i < r_i, how many same symbol between this interval (coordinate - 1 = true index)"
   ]
  },
  {
   "cell_type": "markdown",
   "metadata": {},
   "source": [
    "OJ #02746 约瑟夫问题"
   ]
  },
  {
   "cell_type": "code",
   "execution_count": null,
   "metadata": {},
   "outputs": [
    {
     "name": "stdout",
     "output_type": "stream",
     "text": [
      "5\n",
      "1\n",
      "7\n"
     ]
    }
   ],
   "source": [
    "# the data of this question is very small, traverse is enough\n",
    "while True:\n",
    "    n, m = map(int, input().split())\n",
    "    if n + m == 0:\n",
    "        break\n",
    "\n",
    "    monkey = [1]*n\n",
    "    i = 0\n",
    "    temp = 1\n",
    "    while True:\n",
    "        if sum(monkey) == 1:\n",
    "            print(monkey.index(1) + 1)\n",
    "            break\n",
    "        if i >= n:\n",
    "            i -= n\n",
    "        \n",
    "        if temp == m and monkey[i] == 1:\n",
    "            monkey[i] = 0\n",
    "            i += 1\n",
    "            temp = 1\n",
    "        elif monkey[i] == 0:\n",
    "            i += 1\n",
    "        else:\n",
    "            temp += 1\n",
    "            i += 1"
   ]
  },
  {
   "cell_type": "code",
   "execution_count": null,
   "metadata": {},
   "outputs": [],
   "source": [
    "# 递推公式\n",
    "while True:\n",
    "    n, m = map(int, input().split())\n",
    "    if n + m == 0:\n",
    "        break\n",
    "    a = 0  # 初始化 a 为 0，表示从 0 开始编号\n",
    "    for i in range(2, n + 1):\n",
    "        a = (a + m) % i\n",
    "    print(a + 1)  # 最终结果需要加 1，因为编号从 1 开始"
   ]
  },
  {
   "cell_type": "code",
   "execution_count": null,
   "metadata": {},
   "outputs": [],
   "source": [
    "# 使用队列list实现\n",
    "from collections import deque\n",
    "# 先使用pop从列表中取出，如果不符合要求再append回列表，相当于构成了一个圈\n",
    "def hot_potato(name_list, num):\n",
    "    queue = deque()\n",
    "    for name in name_list:\n",
    "        queue.append(name)\n",
    "\n",
    "    while len(queue) > 1:\n",
    "        for i in range(num):\n",
    "            queue.append(queue.popleft()) # O(1)\n",
    "        queue.popleft()\n",
    "    return queue.popleft()\n",
    "\n",
    "while True:\n",
    "    n, m = map(int, input().split())\n",
    "    if {n,m} == {0}:\n",
    "        break\n",
    "    monkey = [i for i in range(1, n+1)]\n",
    "    print(hot_potato(monkey, m-1))\n",
    "\n",
    "# 优化\n",
    "while True:\n",
    "    n, m = map(int, input().split())\n",
    "    if {n,m} == {0}:\n",
    "        break\n",
    "    monkey = [i for i in range(1, n+1)]\n",
    "    index = 0\n",
    "    while len(monkey) != 1:\n",
    "        temp = monkey.pop(0)\n",
    "        index += 1\n",
    "        if index == m:\n",
    "            index = 0\n",
    "            continue\n",
    "        monkey.append(temp)\n",
    "    print(monkey[0])"
   ]
  },
  {
   "cell_type": "code",
   "execution_count": null,
   "metadata": {},
   "outputs": [],
   "source": [
    "# 递归\n",
    "# 思路：首先先简化问题，考虑当n=5,m=3 的情况： (1,2,3,4,5)，第一轮报数后变成 (4,5,1,2)。\n",
    "# 如果我们可以把 (4,5,1,2)变成(1,2,3,4)，那不就可以重复这个流程直到 1了嘛。这个流程可以用公式(func(n-1,m)+m-1)%n+1给出，直接递归即可。\n",
    "def func(n,m):\n",
    "    if n == 1:\n",
    "        return n \n",
    "    return (func(n-1, m) + m-1) % n + 1\n",
    "\n",
    "while True:\n",
    "    n, m = map(int, input().split())\n",
    "    if n+m == 0:\n",
    "        break\n",
    "    print(func(n, m))"
   ]
  },
  {
   "cell_type": "code",
   "execution_count": null,
   "metadata": {},
   "outputs": [],
   "source": [
    "# 逆推法，从最后一个猴子的位置重新找到原来的位置\n",
    "while True:\n",
    "    a=input().split()\n",
    "    if a==['0','0']:\n",
    "        break\n",
    "    b=1\n",
    "    c=0\n",
    "    while b<int(a[0]):\n",
    "        b+=1\n",
    "        c=(c+int(a[1]))%b\n",
    "    print(c+1)\n"
   ]
  },
  {
   "cell_type": "markdown",
   "metadata": {},
   "source": [
    "CF #456A. Laptops"
   ]
  },
  {
   "cell_type": "code",
   "execution_count": 26,
   "metadata": {},
   "outputs": [
    {
     "name": "stdout",
     "output_type": "stream",
     "text": [
      "[[300, 100], [100, 300], [400, 200], [200, 400], [100, 500]]\n",
      "[5, 5, 3, 3, 3]\n",
      "3\n"
     ]
    }
   ],
   "source": [
    "N = int(input())\n",
    "hotel = []\n",
    "for i in range(N):\n",
    "    D, C = map(int, input().split())\n",
    "    hotel.append([D, C])\n",
    "print(hotel)\n",
    "\n",
    "i = 0\n",
    "choose = [0]*N\n",
    "while True:\n",
    "    if i >= N:\n",
    "        break\n",
    "\n",
    "    for j in range(N):\n",
    "        if hotel[j][0] > hotel[i][0]: # distance, if the others were smaller, the probability should decrease\n",
    "            choose[i] += 1\n",
    "        if hotel[j][1] > hotel[i][1]:\n",
    "            choose[i] += 1\n",
    "    i += 1\n",
    "print(choose)\n",
    "index_of_min = choose.index(min(choose))\n",
    "\n",
    "print(index_of_min + 1)"
   ]
  },
  {
   "cell_type": "code",
   "execution_count": null,
   "metadata": {},
   "outputs": [],
   "source": []
  }
 ],
 "metadata": {
  "kernelspec": {
   "display_name": "Python 3",
   "language": "python",
   "name": "python3"
  },
  "language_info": {
   "codemirror_mode": {
    "name": "ipython",
    "version": 3
   },
   "file_extension": ".py",
   "mimetype": "text/x-python",
   "name": "python",
   "nbconvert_exporter": "python",
   "pygments_lexer": "ipython3",
   "version": "3.12.4"
  }
 },
 "nbformat": 4,
 "nbformat_minor": 2
}
