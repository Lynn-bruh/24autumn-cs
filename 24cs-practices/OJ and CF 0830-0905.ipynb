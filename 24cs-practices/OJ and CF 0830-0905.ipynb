{
 "cells": [
  {
   "cell_type": "markdown",
   "metadata": {},
   "source": [
    "CF #1352A. Sum of Round Numbers"
   ]
  },
  {
   "cell_type": "code",
   "execution_count": null,
   "metadata": {},
   "outputs": [],
   "source": [
    "for t in range(int(input())):\n",
    "    n = input() #need to be string so can iterate by index\n",
    "    out = []\n",
    "    count = 0\n",
    "    ind = 1\n",
    "    for s in n: \n",
    "        if s != '0': #n is a string, so is '0' not 0\n",
    "            count += 1\n",
    "            power = len(n) - ind #wrong write s & n, as n is the one which got length\n",
    "            # using ind to prevent there are repeated strings inside n, bcs index() will only find the index of first appearance\n",
    "            # and also, using a single value can shorten the code from n.index(s)-1 to only ind (as 1 will not change and just need to initialize ind as 1 and increase it, the meanings are same)\n",
    "            out.append (int(s) * abs((10 ** power)))\n",
    "        ind += 1\n",
    "    print(count)\n",
    "    print(*out)\n",
    "# in a print statement, '*' is used to unpack the elements of a list (or other iterable), it effectively spreads the elements so they are printed as individual arguments and separated by spaces\n"
   ]
  },
  {
   "cell_type": "markdown",
   "metadata": {},
   "source": [
    "CF #1335A. Candies and Two Sisters"
   ]
  },
  {
   "cell_type": "code",
   "execution_count": null,
   "metadata": {},
   "outputs": [],
   "source": [
    "for t in range(int(input())):\n",
    "    n = int(input())\n",
    "    count = 0\n",
    "    if n > 2:\n",
    "        if n % 2 != 0:\n",
    "            count += n // 2\n",
    "        else:\n",
    "            count += n / 2 - 1\n",
    "    print (int(count)) \n"
   ]
  },
  {
   "cell_type": "markdown",
   "metadata": {},
   "source": [
    "CF #151A. Soft Drinking"
   ]
  },
  {
   "cell_type": "code",
   "execution_count": 24,
   "metadata": {},
   "outputs": [
    {
     "name": "stdout",
     "output_type": "stream",
     "text": [
      "0\n"
     ]
    }
   ],
   "source": [
    "n, k, l, c, d, p, nl, np = map(int, input().split())\n",
    "total_ml = k*l\n",
    "total_slices = c*d\n",
    "if total_ml // nl > 0 and total_slices > 0 and p // np > 0: \n",
    "    compare = sorted([total_ml // nl, total_slices, p // np])\n",
    "    i = compare[0]\n",
    "    each_toasts = int (i/n)\n",
    "print (each_toasts)\n",
    "\n",
    "#short code: using \"min()\" function to compare integers, as the note by the cf website\n",
    "n, k, l, c, d, p, nl, np = map(int, input().split())\n",
    "print (min( (k*l)//nl, (c*d), p//np) // n )"
   ]
  },
  {
   "cell_type": "markdown",
   "metadata": {},
   "source": [
    "CF #427A. Police Recruits"
   ]
  },
  {
   "cell_type": "code",
   "execution_count": null,
   "metadata": {},
   "outputs": [],
   "source": [
    "n = int(input())\n",
    "events = [int(x) for x in input().split()] #OR = list(map(int, input().split()))\n",
    "recruits = 0\n",
    "crime = 0\n",
    "for i in range(n):\n",
    "    if events[i] >= 1:\n",
    "        recruits += events[i]\n",
    "    elif events[i] == -1:\n",
    "        if recruits > 0:\n",
    "            recruits -= 1\n",
    "        else:\n",
    "            crime += 1\n",
    "print (crime)\n",
    "\n",
    "# A way without using n:\n",
    "# n = int(input())\n",
    "# a = list(map(int, input().split()))\n",
    "# cnt = 0\n",
    "# officers = 0\n",
    "# for i in a: ## Python can automatically iterate using elements in lists\n",
    "#     if i == -1 and officers == 0:\n",
    "#         cnt += 1\n",
    "#         continue ## \"continue\" skip the rest of the code and move directly to the next iteration\n",
    "#     if i > 0:\n",
    "#         officers += i\n",
    "#         continue\n",
    "#     officers -= 1 ## if both the \"if\" statements are not True, this line will be implemented (bcs not meeting \"continue\")\n",
    "\n",
    "# print(cnt)"
   ]
  },
  {
   "cell_type": "markdown",
   "metadata": {},
   "source": [
    "CF #1154A. Restoring Three Numbers"
   ]
  },
  {
   "cell_type": "code",
   "execution_count": null,
   "metadata": {},
   "outputs": [],
   "source": [
    "x1, x2, x3, x4 = map (int, input().split())\n",
    "abc = (x1+x2+x3+x4) / 3\n",
    "if x1 == abc:\n",
    "    a = abc - x2\n",
    "    b = abc - x3\n",
    "    c = abc - x4\n",
    "elif x2 == abc:\n",
    "    a = abc - x1\n",
    "    b = abc - x3\n",
    "    c = abc - x4\n",
    "elif x3 == abc:\n",
    "    a = abc - x1\n",
    "    b = abc - x2\n",
    "    c = abc - x4\n",
    "elif x4 == abc:\n",
    "    a = abc - x1\n",
    "    b = abc - x2\n",
    "    c = abc - x3\n",
    "else:\n",
    "    print (0)\n",
    "\n",
    "print (int(a), int(b), int(c))\n",
    "\n",
    "# Shorter and easier solution: I don't need to know what abc is, bcs a, b, c are all positive integer\n",
    "a = list(map(int, input().split()))\n",
    "a.sort()\n",
    "print(a[3]-a[0],a[3]-a[1],a[3]-a[2]) # just compare which one is the largest number and thn can get a, b, c"
   ]
  },
  {
   "cell_type": "markdown",
   "metadata": {},
   "source": [
    "CF #1742A. Sum"
   ]
  },
  {
   "cell_type": "code",
   "execution_count": null,
   "metadata": {},
   "outputs": [],
   "source": [
    "for t in range(int(input())):\n",
    "    test = sorted(list(map(int, input().split())))\n",
    "    if test[0] + test[1] == test[2]:\n",
    "        print(\"YES\")\n",
    "    else:\n",
    "        print(\"NO\")"
   ]
  },
  {
   "cell_type": "markdown",
   "metadata": {},
   "source": [
    "CF #281A. Word Capitalization"
   ]
  },
  {
   "cell_type": "code",
   "execution_count": null,
   "metadata": {},
   "outputs": [],
   "source": [
    "s = list(input()) #list can automatically convert each characters of string into each elements of list\n",
    "S = [s[0].upper()] + s[1:]\n",
    "print(*S, sep=\"\") #can see help of print(), \"sep\" sets the seperator / string inserted between two value of arguments, default is \" \" (a space)"
   ]
  },
  {
   "cell_type": "code",
   "execution_count": 47,
   "metadata": {},
   "outputs": [
    {
     "name": "stdout",
     "output_type": "stream",
     "text": [
      "Help on built-in function print in module builtins:\n",
      "\n",
      "print(*args, sep=' ', end='\\n', file=None, flush=False)\n",
      "    Prints the values to a stream, or to sys.stdout by default.\n",
      "\n",
      "    sep\n",
      "      string inserted between values, default a space.\n",
      "    end\n",
      "      string appended after the last value, default a newline.\n",
      "    file\n",
      "      a file-like object (stream); defaults to the current sys.stdout.\n",
      "    flush\n",
      "      whether to forcibly flush the stream.\n",
      "\n"
     ]
    }
   ],
   "source": [
    "help(print)\n",
    "# \"a newline\" means 换行符"
   ]
  },
  {
   "cell_type": "markdown",
   "metadata": {},
   "source": [
    "\"*\" Operator (*woooh*)\n",
    "1. When used with an iterable (like a list, tuple, etc.), is known as the \"unpacking\" operator. It unpacks the elements of the iterable so that they can be passed as individual arguments to a function (i.e. my_func(*arg),  print(*arg)) or operation (i.e. .sum(), .append()).\n",
    "2. The data type of the individual arguments unpacked by * operator won't changed, and are whatever they originally were in the iterable.\n",
    "3. the function and the operation decided what to do with those unpacked arguments, i.e. print(*list, sep = ''), the * operator unpack the elements in the list and send them as arguments (if the data type of the elements are strings, then the arguments are strings too) to the function, \"sep = ''\" specifies that there shouldn't have any separator between those arguments, so the print statement print the output, strings without spaces (just the elements in list)."
   ]
  },
  {
   "cell_type": "markdown",
   "metadata": {},
   "source": [
    "CF #25A. IQ Test"
   ]
  },
  {
   "cell_type": "code",
   "execution_count": 8,
   "metadata": {},
   "outputs": [
    {
     "name": "stdout",
     "output_type": "stream",
     "text": [
      "2\n"
     ]
    }
   ],
   "source": [
    "n = int(input())\n",
    "numbers = []\n",
    "numbers.extend(int(x) for x in input().split())\n",
    "even = 0\n",
    "odd = 0\n",
    "for i in numbers:\n",
    "    if i % 2 == 0:\n",
    "        even += 1\n",
    "        idxe = numbers.index(i)\n",
    "    elif i % 2 != 0:\n",
    "        odd += 1\n",
    "        idxo = numbers.index(i)\n",
    "    else:\n",
    "        print (\"bla\")\n",
    "        break\n",
    "if even < odd: \n",
    "    print (idxe + 1)\n",
    "elif odd < even:\n",
    "    print (idxo + 1)\n",
    "else:\n",
    "    print (\"blabla\")\n",
    "\n",
    "# Shorter code:\n",
    "# n = int(input())\n",
    "# a = list(map(int, input().split()))\n",
    "# a = [i % 2 for i in a]\n",
    "# sum_val = sum(a)\n",
    "# if sum_val == 1:\n",
    "#     print(a.index(1) + 1)\n",
    "# else:\n",
    "#     print(a.index(0) + 1)\n",
    "\n",
    "# Shortest code:\n",
    "# useless = input()\n",
    "# a = [int(x)%2 for x in input().split()]\n",
    "# print(a.index(sum(a)==1)+1) ## ???"
   ]
  },
  {
   "cell_type": "markdown",
   "metadata": {},
   "source": [
    "CF #34B. Sale"
   ]
  },
  {
   "cell_type": "code",
   "execution_count": null,
   "metadata": {},
   "outputs": [],
   "source": [
    "n, m = map(int, input().split())\n",
    "cost = sorted([int(x) for x in input().split()])\n",
    "carry = 1\n",
    "earn = 0\n",
    "for i in cost:\n",
    "    if carry <= m:\n",
    "        carry += 1\n",
    "        if i < 0:\n",
    "            earn -= i\n",
    "            continue\n",
    "    else: \n",
    "        break\n",
    "print (earn)\n",
    "\n",
    "# Another compile way:\n",
    "# n, m = map(int, input().split())\n",
    "# a = list(map(int, input().split()))\n",
    "# a.sort()\n",
    "# ans = 0\n",
    "# for i in range(m):\n",
    "#     if a[i] > 0:\n",
    "#         break\n",
    "#     ans += a[i]\n",
    "# print(-ans)"
   ]
  },
  {
   "cell_type": "markdown",
   "metadata": {},
   "source": [
    "CF #1475A. Odd Divisor"
   ]
  },
  {
   "cell_type": "code",
   "execution_count": null,
   "metadata": {},
   "outputs": [],
   "source": [
    "for i in range(int(input())):\n",
    "    divide = int(input())\n",
    "    while divide != 1:\n",
    "        if divide % 2 == 0:\n",
    "            divide /= 2\n",
    "        else:\n",
    "            print (\"YES\")\n",
    "            break\n",
    "    else:\n",
    "        print (\"NO\")\n"
   ]
  },
  {
   "cell_type": "markdown",
   "metadata": {},
   "source": [
    "CF #160A. Twins"
   ]
  },
  {
   "cell_type": "code",
   "execution_count": null,
   "metadata": {},
   "outputs": [],
   "source": [
    "n = int(input())\n",
    "values = sorted(list(map(int, input().split())))\n",
    "coins = 0\n",
    "get = 0\n",
    "while get <= sum(values):\n",
    "    get += values.pop()\n",
    "    coins += 1\n",
    "else: \n",
    "    print (coins)"
   ]
  },
  {
   "cell_type": "markdown",
   "metadata": {},
   "source": [
    "CF #96A. Football"
   ]
  },
  {
   "cell_type": "code",
   "execution_count": null,
   "metadata": {},
   "outputs": [],
   "source": [
    "s = input()\n",
    "for i in s:\n",
    "    if '1111111' in s or '0000000' in s:\n",
    "        print (\"YES\")\n",
    "        break\n",
    "    else:\n",
    "        print ('NO')\n",
    "        break\n",
    "\n",
    "# Another way (by me~):\n",
    "s = list(map(int, ' '.join(input()).split()))\n",
    "if len(s) < 7:\n",
    "    print (\"NO\")\n",
    "else:\n",
    "    for i in range(len(s)-6):\n",
    "        if s[i:i+7] == [1]*7 or s[i:i+7] == [0]*7:\n",
    "            print (\"YES\")\n",
    "            break\n",
    "    else:\n",
    "        print (\"NO\")"
   ]
  },
  {
   "cell_type": "markdown",
   "metadata": {},
   "source": [
    "CF #1879B. Chips on the Board"
   ]
  },
  {
   "cell_type": "code",
   "execution_count": 4,
   "metadata": {},
   "outputs": [
    {
     "name": "stdout",
     "output_type": "stream",
     "text": [
      "24\n"
     ]
    }
   ],
   "source": [
    "for t in range(int(input())):\n",
    "    n = int(input())\n",
    "    row = [int(x) for x in input().split()]\n",
    "    column = [int(x) for x in input().split()]\n",
    "    costr = 0\n",
    "    costc = 0\n",
    "    min_col = min(column) # using constant value to avoid repeating finding\n",
    "    min_row = min(row)\n",
    "    for i in range(n):\n",
    "        costr += row[i] + min_col\n",
    "    for i in range(n):\n",
    "        costc += column[i] + min_row\n",
    "    print(min(costr, costc))\n",
    "\n",
    "# time limit exceed, use another way to do addition (without loops): \n",
    "## I think will also TLE, cuz inside the [] is also a loop\n",
    "for t in range(int(input())):\n",
    "    n = int(input())\n",
    "    row = [int(x) for x in input().split()] # or *a = map(int, input().split())\n",
    "    column = [int(x) for x in input().split()] # or *b = map(int, input().split())\n",
    "    costr = sum([i + min(column) for i in row]) \n",
    "    costc = sum([i + min(row) for i in column])\n",
    "    print(min(costr, costc))\n",
    "    t = int(input())\n",
    "\n",
    "# using constant variables to calculate (avoid repeating calculate, causing complexity, the complexity of searching \"min\" is also linearly):\n",
    "for _ in range(t):\n",
    "    n = int(input())\n",
    "    *a, = map(int, input().split()) #means array with comma seperate (got more than one elements)\n",
    "    *b, = map(int, input().split())\n",
    "    \n",
    "    min_a = min(a) #constant values\n",
    "    min_b = min(b)\n",
    "    \n",
    "    ans1 = sum([min_a + i for i in b])\n",
    "    ans2 = sum([min_b + i for i in a])\n",
    "    print(min(ans1, ans2))"
   ]
  },
  {
   "cell_type": "markdown",
   "metadata": {},
   "source": [
    "CF #1833B. Restore the Weather"
   ]
  },
  {
   "cell_type": "code",
   "execution_count": 6,
   "metadata": {},
   "outputs": [
    {
     "name": "stdout",
     "output_type": "stream",
     "text": [
      "2 2 5 4 11\n"
     ]
    }
   ],
   "source": [
    "# dun wan, cost O(n^2):\n",
    "# t = int(input())\n",
    "# for i in range(t):\n",
    "#     n, k = map(int, input().split())\n",
    "#     a = list(map(int, input().split()))\n",
    "#     a1 = sorted(a)\n",
    "#     b = sorted(list(map(int, input().split())))\n",
    "#     b1 = [0]*n\n",
    "#     i = 0\n",
    "#     while i < n:\n",
    "#         idx = a1.index(a[i])\n",
    "#         a1[idx] = \"N\"\n",
    "#         b1[i] = b[idx]\n",
    "#         i += 1\n",
    "#     print (*b1)\n",
    "\n",
    "# \"search for everything\" way:\n",
    "t = int(input())\n",
    "for i in range(t):\n",
    "    n, k = map(int, input().split())\n",
    "    a = list(map(int, input().split()))\n",
    "    a1 = sorted(a)\n",
    "    b = sorted(list(map(int, input().split())))\n",
    "    index_map = {}\n",
    "    for idx, value in enumerate(a1):\n",
    "        if value not in index_map:\n",
    "            index_map[value] = []\n",
    "        index_map[value].append(idx)\n",
    "    b1 = [0]*n\n",
    "    i = n - 1\n",
    "    while i < n and i >= 0:\n",
    "        idx = index_map[a[i]].pop() #bcs O() of pop is O(N-i) while i is the index inside pop(), so only pop(-1) (which is default) cost O(1)\n",
    "        b1[i] = b[idx]\n",
    "        i -= 1\n",
    "    print (*b1)\n",
    "\n",
    "#答案的思路：\n",
    "t = int(input())\n",
    "for _ in range(t):\n",
    "    j, k = map(int, input().split())\n",
    "\n",
    "    l1 = list(map(int, input().split()))\n",
    "    v = [(l1[i], i) for i in range(j)]\n",
    "    v.sort()\n",
    "\n",
    "    l2 = list(map(int, input().split()))\n",
    "    l2.sort()\n",
    "\n",
    "    z = [0] * j\n",
    "    for i in range(j):\n",
    "        z[v[i][1]] = l2[i]\n",
    "\n",
    "    for data in z:\n",
    "        print(data, end=\" \")\n",
    "    print()"
   ]
  },
  {
   "cell_type": "code",
   "execution_count": 1,
   "metadata": {},
   "outputs": [
    {
     "name": "stdout",
     "output_type": "stream",
     "text": [
      "Help on class enumerate in module builtins:\n",
      "\n",
      "class enumerate(object)\n",
      " |  enumerate(iterable, start=0)\n",
      " |\n",
      " |  Return an enumerate object.\n",
      " |\n",
      " |    iterable\n",
      " |      an object supporting iteration\n",
      " |\n",
      " |  The enumerate object yields pairs containing a count (from start, which\n",
      " |  defaults to zero) and a value yielded by the iterable argument.\n",
      " |\n",
      " |  enumerate is useful for obtaining an indexed list:\n",
      " |      (0, seq[0]), (1, seq[1]), (2, seq[2]), ...\n",
      " |\n",
      " |  Methods defined here:\n",
      " |\n",
      " |  __getattribute__(self, name, /)\n",
      " |      Return getattr(self, name).\n",
      " |\n",
      " |  __iter__(self, /)\n",
      " |      Implement iter(self).\n",
      " |\n",
      " |  __next__(self, /)\n",
      " |      Implement next(self).\n",
      " |\n",
      " |  __reduce__(...)\n",
      " |      Return state information for pickling.\n",
      " |\n",
      " |  ----------------------------------------------------------------------\n",
      " |  Class methods defined here:\n",
      " |\n",
      " |  __class_getitem__(...)\n",
      " |      See PEP 585\n",
      " |\n",
      " |  ----------------------------------------------------------------------\n",
      " |  Static methods defined here:\n",
      " |\n",
      " |  __new__(*args, **kwargs)\n",
      " |      Create and return a new object.  See help(type) for accurate signature.\n",
      "\n"
     ]
    }
   ],
   "source": [
    "help(enumerate)"
   ]
  }
 ],
 "metadata": {
  "kernelspec": {
   "display_name": "Python 3",
   "language": "python",
   "name": "python3"
  },
  "language_info": {
   "codemirror_mode": {
    "name": "ipython",
    "version": 3
   },
   "file_extension": ".py",
   "mimetype": "text/x-python",
   "name": "python",
   "nbconvert_exporter": "python",
   "pygments_lexer": "ipython3",
   "version": "3.12.4"
  }
 },
 "nbformat": 4,
 "nbformat_minor": 2
}
